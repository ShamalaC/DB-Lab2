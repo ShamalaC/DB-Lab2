{
 "cells": [
  {
   "cell_type": "code",
   "execution_count": 3,
   "id": "f4294652",
   "metadata": {},
   "outputs": [],
   "source": [
    "import pandas as pd\n",
    "import pymongo\n",
    "from bson import ObjectId\n",
    "\n",
    "# Load the CSV file\n",
    "df = pd.read_csv('denormalized_job_data.csv')\n",
    "\n",
    "# Convert DataFrame to dictionary\n",
    "data = df.to_dict(orient='records')\n",
    "\n",
    "# Connect to MongoDB (update host and port as needed)\n",
    "client = pymongo.MongoClient('mongodb://localhost:27017/')\n",
    "db = client['lab2']\n",
    "jobs_collection = db['jobs']\n",
    "\n",
    "# Transform and insert data\n",
    "for record in data:\n",
    "    # Convert 'company_id' to string (removing '.0')\n",
    "    if 'company_id' in record and pd.notna(record['company_id']):\n",
    "        record['company_id'] = str(record['company_id']).rstrip('.0')\n",
    "\n",
    "    # Insert the record\n",
    "    jobs_collection.insert_one(record)"
   ]
  },
  {
   "cell_type": "code",
   "execution_count": 4,
   "id": "c2cc7dc4",
   "metadata": {},
   "outputs": [
    {
     "name": "stdout",
     "output_type": "stream",
     "text": [
      "{'_id': ObjectId('6557c7f1380a3efae8950199'), 'job_id': 133114754, 'company_id': '77766802', 'title': 'Sales Manager', 'description': 'Are you a dynamic and creative marketing professional looking to make a significant impact in the world of freight and logistics We are seeking a talented Marketing Manager to join our team and drive our marketing initiatives to new heights If youre passionate about shaping brand narratives developing strategic campaigns and thrive in a fastpaced environment we want to hear from youKey ResponsibilitiesDevelop and execute comprehensive marketing strategies to enhance brand visibility and promote our freight and logistics servicesLead a team of marketing specialists fostering collaboration and guiding their efforts towards achieving set goalsAnalyze market trends customer behavior and competitor activity to identify growth opportunities and refine strategiesManage the companys online presence optimizing the website and social media channels for maximum engagement and conversionsPlan and oversee participation in industry events conferences and trade shows to showcase our services and network with potential clientsMeasure and report on the performance of marketing campaigns using datadriven insights to continuously improve strategiesQualificationsBachelors degree in Marketing Business or a related field Masters preferredProven experience 5 years in marketing preferably within the freight and logistics industry or a related B2B fieldStrong Customer Base and Running BusinessStrong understanding of digital marketing tactics including SEO SEM social media and content marketingAnalytical mindset with proficiency in data analysis tools to drive informed marketing decisionsExcellent communication skills both written and verbal to craft compelling narratives and collaborate across teamsAbility to thrive in a fastpaced everchanging environment and adapt to industry shiftsStrong organizational skills and attention to detail ensuring the flawless execution of marketing campaignsWhy Join UsOpportunity to play a pivotal role in shaping the marketing strategies of a leading player in the freight and logistics industryA collaborative and inclusive work environment that values innovation and continuous improvementCompetitive salary and benefits packageRoom for growth and career advancement based on performance and resultsChance to work with a diverse team of professionals who are passionate about making a differenceIf youre ready to take on a rewarding challenge in the world of freight and logistics marketing we want to hear from you Send your resume and a cover letter outlining your relevant experience to mitchcargologincom Join us in driving our brand forward and revolutionizing the way we approach marketing in this dynamic industry', 'max_salary': 'Not Available', 'med_salary': 'Not Available', 'min_salary': 'Not Available', 'pay_period': 'not given', 'formatted_work_type': 'Full-time', 'location': 'Santa Clarita, CA', 'applies': 'Not Available', 'original_listed_time': '1970-01-01 00:28:10', 'remote_allowed': 'Not Available', 'views': 'Not Available', 'job_posting_url': 'https://www.linkedin.com/jobs/view/133114754/?trk=jobs_biz_prem_srch', 'application_url': 'not given', 'application_type': 'ComplexOnsiteApply', 'expiry': '1969-12-31 16:00:00', 'closed_time': '1969-12-31 16:00:00', 'formatted_experience_level': 'not given', 'skills_desc': 'not given', 'listed_time': '1969-12-31 16:00:00', 'posting_domain': 'not given', 'sponsored': 0, 'work_type': 'FULL_TIME', 'currency': 'not given', 'compensation_type': 'not given', 'salary_id': nan, 'max_salary_sal': nan, 'med_salary_sal': nan, 'min_salary_sal': nan, 'pay_period_sal': nan, 'currency_sal': nan, 'compensation_type_sal': nan, 'type': \"['Medical insurance', '401(k)', 'Vision insurance']\", 'skill_abr': \"['SALE', 'BD']\", 'industry_id': '[92]'}\n",
      "{'_id': ObjectId('6557c7f1380a3efae895019a'), 'job_id': 133196985, 'company_id': '1089558', 'title': 'Model Risk Auditor', 'description': 'Join Us as a Model Risk Auditor  Showcase Your Financial Services Auditing ExpertiseAre you an experienced financial services auditor with a passion for unraveling complexities Were on the lookout for a Model Risk Auditor to join us and elevate our model risk management practices\\nPosition HighlightsLocation New York NY Hybrid work arrangementDuration Approximately 10 weeks 3 monthsDaily Rate Competitive rate based on industry research\\nPosition SummaryAs a Model Risk Auditor you will be an integral part of our Model Risk Management MRM audit assignment You will work closely with our Internal Audit team following our established methodology to assess and evaluate the effectiveness of our model risk management framework This includes areas such as Model Governance Policies and Procedures and key processes and controls in accordance with regulatory guidelines SR 117\\nKey ResponsibilitiesCollaborate with the lead auditor to plan and execute the MRM audit assignmentAssess the Branchs model risk management framework evaluating its conceptual soundness and compliance with regulatory standardsDocument work papers using standardized templates provided by the Internal Audit teamIdentify and document model risk audit findings substantiating them with relevant facts and evidenceDevelop recommendations that address the root causes of identified issuesProvide regular project status updates to both the auditee and Internal Audit management\\nQualifications  SkillsPrevious experience in auditing within the financial services sector is essentialPreference will be given to candidates with experience in risk modeling and familiarity with SR 117 supervisory guidanceStrong documentation skills with the ability to create wellstructured work papers and reportsExcellent analytical and problemsolving abilitiesEffective communication skills to interact with various stakeholders and present findings clearly\\n\\n', 'max_salary': 'Not Available', 'med_salary': 'Not Available', 'min_salary': 'Not Available', 'pay_period': 'not given', 'formatted_work_type': 'Contract', 'location': 'New York, NY', 'applies': '1.0', 'original_listed_time': '1970-01-01 00:28:10', 'remote_allowed': 'Not Available', 'views': '17.0', 'job_posting_url': 'https://www.linkedin.com/jobs/view/133196985/?trk=jobs_biz_prem_srch', 'application_url': 'not given', 'application_type': 'ComplexOnsiteApply', 'expiry': '1969-12-31 16:00:00', 'closed_time': '1969-12-31 16:00:00', 'formatted_experience_level': 'not given', 'skills_desc': 'not given', 'listed_time': '1969-12-31 16:00:00', 'posting_domain': 'not given', 'sponsored': 0, 'work_type': 'CONTRACT', 'currency': 'not given', 'compensation_type': 'not given', 'salary_id': nan, 'max_salary_sal': nan, 'med_salary_sal': nan, 'min_salary_sal': nan, 'pay_period_sal': nan, 'currency_sal': nan, 'compensation_type_sal': nan, 'type': nan, 'skill_abr': \"['ACCT', 'FIN']\", 'industry_id': '[104]'}\n",
      "{'_id': ObjectId('6557c7f1380a3efae895019b'), 'job_id': 381055942, 'company_id': '96654609', 'title': 'Business Manager', 'description': 'Business ManagerFirst Baptist Church ForneyForney Texas Reports to Executive Pastor  Job Overview The Business Manager maintains accurate accounting records provides financial reports and meets the human resource needs of the church\\nMajor Duties and Responsibilities\\nFinancial Responsibilities Perform month end duties which includes reconciliation of all bank accounts and credit cards and month end journal entries Collect and record all invoices and check requests into accounting software Disburse all signed checks Review and approve expenses on church credit cards Manage and pay all church credit cards Collect record and deposit Sunday offering for FBC Forney and FBCF En Español congregation Record all online giving in accounting software Record and deposit nongiving related income received from fitness center day care and coffee shop\\nHuman Resources Perform payroll duties semimonthly Record payroll and employee benefit data as needed Onboard new employees for all departments of the church\\nGeneral Duties Provide financial reports as needed  Maintain vendor files Maintain personnel files of church staff Maintain accurate accounting records Provide ministries with monthly reports showing budget vs actuals  Prepare and distribute church members annual giving statements Perform other duties and assignments as requested by the Executive Pastor\\nQualifications High School Diploma or GED required Bachelors degree in Accounting Finance or related field and relevant work experience preferred Thorough knowledge and understanding of GAAP Strong communication and interpersonal skills with the ability to work collaboratively with staff and leadership Proficient skills in QuickBooks and Microsoft Excel Experience with accounts payable accounts receivable payroll and general ledger High degree of accuracy and attention to detail Ability to work independently and meet deadlines in a fastpaced environment High ethical standards and integrity in handling financial information Be a Christian of high moral character Systems Used QuickBooks Online Microsoft Excel Google Sheets Rock RMS', 'max_salary': 'Not Available', 'med_salary': 'Not Available', 'min_salary': 'Not Available', 'pay_period': 'not given', 'formatted_work_type': 'Full-time', 'location': 'Forney, TX', 'applies': 'Not Available', 'original_listed_time': '1970-01-01 00:28:10', 'remote_allowed': 'Not Available', 'views': 'Not Available', 'job_posting_url': 'https://www.linkedin.com/jobs/view/381055942/?trk=jobs_biz_prem_srch', 'application_url': 'not given', 'application_type': 'ComplexOnsiteApply', 'expiry': '1969-12-31 16:00:00', 'closed_time': '1969-12-31 16:00:00', 'formatted_experience_level': 'not given', 'skills_desc': 'not given', 'listed_time': '1969-12-31 16:00:00', 'posting_domain': 'not given', 'sponsored': 0, 'work_type': 'FULL_TIME', 'currency': 'not given', 'compensation_type': 'not given', 'salary_id': nan, 'max_salary_sal': nan, 'med_salary_sal': nan, 'min_salary_sal': nan, 'pay_period_sal': nan, 'currency_sal': nan, 'compensation_type_sal': nan, 'type': nan, 'skill_abr': nan, 'industry_id': '[89]'}\n",
      "{'_id': ObjectId('6557c7f1380a3efae895019c'), 'job_id': 529257371, 'company_id': '1244539', 'title': 'NY Studio Assistant', 'description': 'YOU COULD BE ONE OF THE MAGIC MAKERS\\nKen Fulk Inc is seeking a Studio Assistant with a minimum of 2 years experience working as an administrative assistant for our New York studio\\nREQUIREMENTS\\n Provide administrative support to the design team Oversee planning and logistics associated with events and meetings Manage and receive daily maildeliveriescouriers Serve as liaison for industry vendors and consultants Greet welcome and provide hospitality to guests Maintain studio organization aesthetic and cleanliness Manage office opening and closing procedures daily Maintain material library and work spaces Strong verbal and written communications skills\\nQUALIFICATIONS\\n Bachelors Degree required A minimum of two years of experience working as an administrative assistant required Experience in the design or arts industry is preferred Proficiency in Google Suite and Microsoft Office Experience with Adobe InDesign Articulate and polished written verbal and interpersonal communication skills A keen eye and strong attention to detail Organized with excellent followthrough skills Able to work independently and also in a team environment Able to multitask effectively and efficiently in a fastpaced environment Proactive resourceful reliable positive and solutionminded individual Demonstrated ability to quickly learn and master new software applications\\nPosition is full time and based in New York Compensation based on experience \\nKen Fulk Inc offers health insurance dental insurance option vision insurance option life insurance pet insurance option employee assistance program Counseling  Support Resources paid holiday Bbeak Christmas Eve  New Years Day 13 paid holidays and matching 401k 5\\nPlease send cover letter and resume by email in PDF format no larger than 10MB total to workkenfulkcom with NY Studio Assistant in the subject line\\n', 'max_salary': 'Not Available', 'med_salary': 'Not Available', 'min_salary': 'Not Available', 'pay_period': 'not given', 'formatted_work_type': 'Full-time', 'location': 'New York, NY', 'applies': 'Not Available', 'original_listed_time': '1970-01-01 00:28:10', 'remote_allowed': 'Not Available', 'views': '2.0', 'job_posting_url': 'https://www.linkedin.com/jobs/view/529257371/?trk=jobs_biz_prem_srch', 'application_url': 'not given', 'application_type': 'ComplexOnsiteApply', 'expiry': '1969-12-31 16:00:00', 'closed_time': '1969-12-31 16:00:00', 'formatted_experience_level': 'not given', 'skills_desc': 'not given', 'listed_time': '1969-12-31 16:00:00', 'posting_domain': 'not given', 'sponsored': 1, 'work_type': 'FULL_TIME', 'currency': 'not given', 'compensation_type': 'not given', 'salary_id': nan, 'max_salary_sal': nan, 'med_salary_sal': nan, 'min_salary_sal': nan, 'pay_period_sal': nan, 'currency_sal': nan, 'compensation_type_sal': nan, 'type': \"['Medical insurance', 'Vision insurance', 'Dental insurance']\", 'skill_abr': \"['DSGN', 'ART', 'IT']\", 'industry_id': '[99]'}\n",
      "{'_id': ObjectId('6557c7f1380a3efae895019d'), 'job_id': 903408693, 'company_id': '3894635', 'title': 'Office Associate', 'description': 'Provide clerical and administrative support to management as requestedAnswer phone calls and perform higherlevel data entry relating to Customer ServiceProcess larger more complicated customer orders and complaints and followup when necessaryProcess customer accounts and file documentsFollow communication procedures guidelines and policies taking the extra mile to engage larger more complex customersProvide accurate and timely information including product costs and standard costs for new productsAnalyze manufacturing processes in coordination with Plant Managers to improve decisionmakingAlign projects with various accounting and customer experience needsOther duties as needed\\n', 'max_salary': '42000.0', 'med_salary': 'Not Available', 'min_salary': '37000.0', 'pay_period': 'YEARLY', 'formatted_work_type': 'Full-time', 'location': 'Albany, GA', 'applies': '5.0', 'original_listed_time': '1970-01-01 00:28:10', 'remote_allowed': 'Not Available', 'views': '49.0', 'job_posting_url': 'https://www.linkedin.com/jobs/view/903408693/?trk=jobs_biz_prem_srch', 'application_url': 'not given', 'application_type': 'ComplexOnsiteApply', 'expiry': '1969-12-31 16:00:00', 'closed_time': '1969-12-31 16:00:00', 'formatted_experience_level': 'not given', 'skills_desc': 'not given', 'listed_time': '1969-12-31 16:00:00', 'posting_domain': 'not given', 'sponsored': 1, 'work_type': 'FULL_TIME', 'currency': 'USD', 'compensation_type': 'BASE_SALARY', 'salary_id': 163.0, 'max_salary_sal': 42000.0, 'med_salary_sal': nan, 'min_salary_sal': 37000.0, 'pay_period_sal': 'YEARLY', 'currency_sal': 'USD', 'compensation_type_sal': 'BASE_SALARY', 'type': nan, 'skill_abr': \"['ADM']\", 'industry_id': '[27, 34]'}\n",
      "Total documents in the 'jobs' collection: 15520\n"
     ]
    }
   ],
   "source": [
    "# Connect to MongoDB\n",
    "client = pymongo.MongoClient('mongodb://localhost:27017/')\n",
    "db = client['lab2']\n",
    "\n",
    "# Fetch and print a few documents from the 'jobs' collection\n",
    "for job in db.jobs.find().limit(5):\n",
    "    print(job)\n",
    "\n",
    "# Count and print the number of documents in the 'jobs' collection\n",
    "count = db.jobs.count_documents({})\n",
    "print(\"Total documents in the 'jobs' collection:\", count)"
   ]
  },
  {
   "cell_type": "code",
   "execution_count": null,
   "id": "0fecc039",
   "metadata": {},
   "outputs": [],
   "source": []
  }
 ],
 "metadata": {
  "kernelspec": {
   "display_name": "Python 3 (ipykernel)",
   "language": "python",
   "name": "python3"
  },
  "language_info": {
   "codemirror_mode": {
    "name": "ipython",
    "version": 3
   },
   "file_extension": ".py",
   "mimetype": "text/x-python",
   "name": "python",
   "nbconvert_exporter": "python",
   "pygments_lexer": "ipython3",
   "version": "3.11.4"
  }
 },
 "nbformat": 4,
 "nbformat_minor": 5
}
