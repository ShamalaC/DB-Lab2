{
 "cells": [
  {
   "cell_type": "markdown",
   "id": "60bcc917",
   "metadata": {},
   "source": [
    "# Cleaning of companies related datasets"
   ]
  },
  {
   "cell_type": "markdown",
   "id": "0b2b4f81",
   "metadata": {},
   "source": [
    "We first start by loading the dataset and displaying the head of each of them for an overview"
   ]
  },
  {
   "cell_type": "code",
   "execution_count": 1,
   "id": "7c849bb4",
   "metadata": {},
   "outputs": [
    {
     "data": {
      "text/plain": [
       "{'companies':    company_id                        name  \\\n",
       " 0        1009                         IBM   \n",
       " 1        1016               GE HealthCare   \n",
       " 2        1021                    GE Power   \n",
       " 3        1025  Hewlett Packard Enterprise   \n",
       " 4        1028                      Oracle   \n",
       " \n",
       "                                          description  company_size  state  \\\n",
       " 0  At IBM, we do more than work. We create. We cr...           7.0     NY   \n",
       " 1  Every day millions of people feel the impact o...           7.0      0   \n",
       " 2  GE Power, part of GE Vernova, is a world energ...           7.0     NY   \n",
       " 3  Official LinkedIn of Hewlett Packard Enterpris...           7.0  Texas   \n",
       " 4  We’re a cloud technology company that provides...           7.0  Texas   \n",
       " \n",
       "   country              city zip_code                                address  \\\n",
       " 0      US  Armonk, New York    10504  International Business Machines Corp.   \n",
       " 1      US           Chicago        0                                      -   \n",
       " 2      US       Schenectady    12345                           1 River Road   \n",
       " 3      US           Houston    77389            1701 E Mossy Oaks Rd Spring   \n",
       " 4      US            Austin    78741                        2300 Oracle Way   \n",
       " \n",
       "                                                  url  \n",
       " 0               https://www.linkedin.com/company/ibm  \n",
       " 1      https://www.linkedin.com/company/gehealthcare  \n",
       " 2           https://www.linkedin.com/company/gepower  \n",
       " 3  https://www.linkedin.com/company/hewlett-packa...  \n",
       " 4            https://www.linkedin.com/company/oracle  ,\n",
       " 'company_industries':    company_id                               industry\n",
       " 0    81149246                       Higher Education\n",
       " 1    10033339      Information Technology & Services\n",
       " 2     6049228                             Accounting\n",
       " 3     2641066  Electrical & Electronic Manufacturing\n",
       " 4    96649998                Marketing & Advertising,\n",
       " 'company_specialities':    company_id                    speciality\n",
       " 0    81149246     Childrens Music Education\n",
       " 1    81149246     Foundational Music Theory\n",
       " 2    81149246           Child Music Lessons\n",
       " 3    81149246     social emotional learning\n",
       " 4    81149246  social emotional development,\n",
       " 'employee_counts':    company_id  employee_count  follower_count  time_recorded\n",
       " 0    81149246               6              91   1.692645e+09\n",
       " 1    10033339               3             187   1.692645e+09\n",
       " 2     6049228              20              82   1.692645e+09\n",
       " 3     2641066              45            2336   1.692645e+09\n",
       " 4    96649998               0               2   1.692645e+09}"
      ]
     },
     "execution_count": 1,
     "metadata": {},
     "output_type": "execute_result"
    }
   ],
   "source": [
    "import pandas as pd\n",
    "\n",
    "# Load the datasets\n",
    "companies_df = pd.read_csv('companies.csv')\n",
    "company_industries_df = pd.read_csv('company_industries.csv')\n",
    "company_specialities_df = pd.read_csv('company_specialities.csv')\n",
    "employee_counts_df = pd.read_csv('employee_counts.csv')\n",
    "\n",
    "# Display the first few rows of each dataset for an overview\n",
    "datasets_overview = {\n",
    "    \"companies\": companies_df.head(),\n",
    "    \"company_industries\": company_industries_df.head(),\n",
    "    \"company_specialities\": company_specialities_df.head(),\n",
    "    \"employee_counts\": employee_counts_df.head()\n",
    "}\n",
    "\n",
    "datasets_overview"
   ]
  },
  {
   "cell_type": "markdown",
   "id": "0e6576a8",
   "metadata": {},
   "source": [
    "Then we find if there are any missing values, duplicates and also if the datatypes are appropriate"
   ]
  },
  {
   "cell_type": "code",
   "execution_count": 2,
   "id": "09743aae",
   "metadata": {},
   "outputs": [
    {
     "data": {
      "text/plain": [
       "({'companies_missing_values': company_id         0\n",
       "  name               1\n",
       "  description      143\n",
       "  company_size    1105\n",
       "  state              8\n",
       "  country            0\n",
       "  city               1\n",
       "  zip_code          12\n",
       "  address           11\n",
       "  url                0\n",
       "  dtype: int64,\n",
       "  'company_industries_missing_values': company_id    0\n",
       "  industry      0\n",
       "  dtype: int64,\n",
       "  'company_specialities_missing_values': company_id    0\n",
       "  speciality    0\n",
       "  dtype: int64,\n",
       "  'employee_counts_missing_values': company_id        0\n",
       "  employee_count    0\n",
       "  follower_count    0\n",
       "  time_recorded     0\n",
       "  dtype: int64},\n",
       " {'companies_data_types': company_id        int64\n",
       "  name             object\n",
       "  description      object\n",
       "  company_size    float64\n",
       "  state            object\n",
       "  country          object\n",
       "  city             object\n",
       "  zip_code         object\n",
       "  address          object\n",
       "  url              object\n",
       "  dtype: object,\n",
       "  'company_industries_data_types': company_id     int64\n",
       "  industry      object\n",
       "  dtype: object,\n",
       "  'company_specialities_data_types': company_id     int64\n",
       "  speciality    object\n",
       "  dtype: object,\n",
       "  'employee_counts_data_types': company_id          int64\n",
       "  employee_count      int64\n",
       "  follower_count      int64\n",
       "  time_recorded     float64\n",
       "  dtype: object},\n",
       " {'companies_duplicates': 0,\n",
       "  'company_industries_duplicates': 0,\n",
       "  'company_specialities_duplicates': 0,\n",
       "  'employee_counts_duplicates': 0})"
      ]
     },
     "execution_count": 2,
     "metadata": {},
     "output_type": "execute_result"
    }
   ],
   "source": [
    "# Checking for missing values in each dataset\n",
    "missing_values = {\n",
    "    \"companies_missing_values\": companies_df.isnull().sum(),\n",
    "    \"company_industries_missing_values\": company_industries_df.isnull().sum(),\n",
    "    \"company_specialities_missing_values\": company_specialities_df.isnull().sum(),\n",
    "    \"employee_counts_missing_values\": employee_counts_df.isnull().sum()\n",
    "}\n",
    "\n",
    "# Checking data types of each column in the datasets\n",
    "data_types = {\n",
    "    \"companies_data_types\": companies_df.dtypes,\n",
    "    \"company_industries_data_types\": company_industries_df.dtypes,\n",
    "    \"company_specialities_data_types\": company_specialities_df.dtypes,\n",
    "    \"employee_counts_data_types\": employee_counts_df.dtypes\n",
    "}\n",
    "\n",
    "# Checking for duplicates in each dataset\n",
    "duplicate_counts = {\n",
    "    \"companies_duplicates\": companies_df.duplicated().sum(),\n",
    "    \"company_industries_duplicates\": company_industries_df.duplicated().sum(),\n",
    "    \"company_specialities_duplicates\": company_specialities_df.duplicated().sum(),\n",
    "    \"employee_counts_duplicates\": employee_counts_df.duplicated().sum()\n",
    "}\n",
    "\n",
    "missing_values, data_types, duplicate_counts"
   ]
  },
  {
   "cell_type": "markdown",
   "id": "635eb90f",
   "metadata": {},
   "source": [
    "All missing values in the name, description, state, city, zip_code, and address columns were filled with the placeholder 'Unknown'.\n",
    "Missing values in the company_size column were filled with the median value of that column"
   ]
  },
  {
   "cell_type": "code",
   "execution_count": 3,
   "id": "9d23cd43",
   "metadata": {},
   "outputs": [
    {
     "data": {
      "text/plain": [
       "{'companies_filled_missing_values': company_id      0\n",
       " name            0\n",
       " description     0\n",
       " company_size    0\n",
       " state           0\n",
       " country         0\n",
       " city            0\n",
       " zip_code        0\n",
       " address         0\n",
       " url             0\n",
       " dtype: int64,\n",
       " 'original_companies_missing_values': company_id         0\n",
       " name               1\n",
       " description      143\n",
       " company_size    1105\n",
       " state              8\n",
       " country            0\n",
       " city               1\n",
       " zip_code          12\n",
       " address           11\n",
       " url                0\n",
       " dtype: int64}"
      ]
     },
     "execution_count": 3,
     "metadata": {},
     "output_type": "execute_result"
    }
   ],
   "source": [
    "# Filling missing values for companies dataset\n",
    "# For categorical data, we'll fill missing values with a placeholder 'Unknown'\n",
    "# For numerical data, we'll fill with the median value of that column\n",
    "\n",
    "companies_df_filled = companies_df.copy()\n",
    "companies_df_filled['name'].fillna('Unknown', inplace=True)\n",
    "companies_df_filled['description'].fillna('Unknown', inplace=True)\n",
    "companies_df_filled['company_size'].fillna(companies_df['company_size'].median(), inplace=True)\n",
    "companies_df_filled['state'].fillna('Unknown', inplace=True)\n",
    "companies_df_filled['city'].fillna('Unknown', inplace=True)\n",
    "companies_df_filled['zip_code'].fillna('Unknown', inplace=True)\n",
    "companies_df_filled['address'].fillna('Unknown', inplace=True)\n",
    "\n",
    "# Check if filling was successful\n",
    "filled_check = {\n",
    "    \"companies_filled_missing_values\": companies_df_filled.isnull().sum(),\n",
    "    \"original_companies_missing_values\": companies_df.isnull().sum()\n",
    "}\n",
    "\n",
    "filled_check"
   ]
  },
  {
   "cell_type": "markdown",
   "id": "81c8cc58",
   "metadata": {},
   "source": [
    "The time_recorded column in the Employee Counts dataset has been successfully converted to datetime format. This conversion ensures the timestamps are in a more readable and usable format for any time-based analysis or operations you might need to perform"
   ]
  },
  {
   "cell_type": "code",
   "execution_count": 4,
   "id": "bfe93759",
   "metadata": {},
   "outputs": [
    {
     "data": {
      "text/html": [
       "<div>\n",
       "<style scoped>\n",
       "    .dataframe tbody tr th:only-of-type {\n",
       "        vertical-align: middle;\n",
       "    }\n",
       "\n",
       "    .dataframe tbody tr th {\n",
       "        vertical-align: top;\n",
       "    }\n",
       "\n",
       "    .dataframe thead th {\n",
       "        text-align: right;\n",
       "    }\n",
       "</style>\n",
       "<table border=\"1\" class=\"dataframe\">\n",
       "  <thead>\n",
       "    <tr style=\"text-align: right;\">\n",
       "      <th></th>\n",
       "      <th>company_id</th>\n",
       "      <th>employee_count</th>\n",
       "      <th>follower_count</th>\n",
       "      <th>time_recorded</th>\n",
       "    </tr>\n",
       "  </thead>\n",
       "  <tbody>\n",
       "    <tr>\n",
       "      <th>0</th>\n",
       "      <td>81149246</td>\n",
       "      <td>6</td>\n",
       "      <td>91</td>\n",
       "      <td>2023-08-21 19:04:04.277973504</td>\n",
       "    </tr>\n",
       "    <tr>\n",
       "      <th>1</th>\n",
       "      <td>10033339</td>\n",
       "      <td>3</td>\n",
       "      <td>187</td>\n",
       "      <td>2023-08-21 19:04:04.277973504</td>\n",
       "    </tr>\n",
       "    <tr>\n",
       "      <th>2</th>\n",
       "      <td>6049228</td>\n",
       "      <td>20</td>\n",
       "      <td>82</td>\n",
       "      <td>2023-08-21 19:04:05.101318400</td>\n",
       "    </tr>\n",
       "    <tr>\n",
       "      <th>3</th>\n",
       "      <td>2641066</td>\n",
       "      <td>45</td>\n",
       "      <td>2336</td>\n",
       "      <td>2023-08-21 19:04:05.923216640</td>\n",
       "    </tr>\n",
       "    <tr>\n",
       "      <th>4</th>\n",
       "      <td>96649998</td>\n",
       "      <td>0</td>\n",
       "      <td>2</td>\n",
       "      <td>2023-08-21 19:04:05.924218880</td>\n",
       "    </tr>\n",
       "  </tbody>\n",
       "</table>\n",
       "</div>"
      ],
      "text/plain": [
       "   company_id  employee_count  follower_count                 time_recorded\n",
       "0    81149246               6              91 2023-08-21 19:04:04.277973504\n",
       "1    10033339               3             187 2023-08-21 19:04:04.277973504\n",
       "2     6049228              20              82 2023-08-21 19:04:05.101318400\n",
       "3     2641066              45            2336 2023-08-21 19:04:05.923216640\n",
       "4    96649998               0               2 2023-08-21 19:04:05.924218880"
      ]
     },
     "execution_count": 4,
     "metadata": {},
     "output_type": "execute_result"
    }
   ],
   "source": [
    "import pandas as pd\n",
    "\n",
    "# Convert 'time_recorded' to datetime format in the employee_counts dataset\n",
    "employee_counts_df['time_recorded'] = pd.to_datetime(employee_counts_df['time_recorded'], unit='s')\n",
    "\n",
    "# Check the first few rows to verify the conversion\n",
    "employee_counts_df.head()"
   ]
  },
  {
   "cell_type": "markdown",
   "id": "0500e07f",
   "metadata": {},
   "source": [
    "We try to see the number of rows and the list of columns in companies dataset after cleaning"
   ]
  },
  {
   "cell_type": "code",
   "execution_count": 5,
   "id": "55115ed1",
   "metadata": {},
   "outputs": [
    {
     "data": {
      "text/plain": [
       "11361"
      ]
     },
     "execution_count": 5,
     "metadata": {},
     "output_type": "execute_result"
    }
   ],
   "source": [
    "# Counting the number of rows in the companies dataset\n",
    "num_rows_companies = companies_df.shape[0]\n",
    "num_rows_companies"
   ]
  },
  {
   "cell_type": "code",
   "execution_count": 6,
   "id": "49ff7219",
   "metadata": {},
   "outputs": [
    {
     "data": {
      "text/plain": [
       "['company_id',\n",
       " 'name',\n",
       " 'description',\n",
       " 'company_size',\n",
       " 'state',\n",
       " 'country',\n",
       " 'city',\n",
       " 'zip_code',\n",
       " 'address',\n",
       " 'url']"
      ]
     },
     "execution_count": 6,
     "metadata": {},
     "output_type": "execute_result"
    }
   ],
   "source": [
    "# Listing the column names in the companies dataset\n",
    "columns_companies = companies_df.columns.tolist()\n",
    "columns_companies"
   ]
  },
  {
   "cell_type": "markdown",
   "id": "a1713bbd",
   "metadata": {},
   "source": [
    "After attempting to remove duplicates based on the company_id column from the Companies dataset, the number of rows remains the same at 11,361. This indicates that each company_id is unique in the dataset, and there were no duplicate entries based on this identifier."
   ]
  },
  {
   "cell_type": "code",
   "execution_count": 7,
   "id": "c04e9846",
   "metadata": {},
   "outputs": [
    {
     "data": {
      "text/plain": [
       "11361"
      ]
     },
     "execution_count": 7,
     "metadata": {},
     "output_type": "execute_result"
    }
   ],
   "source": [
    "# Removing duplicates based on company_id\n",
    "# Since company_id should be unique for each company, we will keep only the first occurrence\n",
    "companies_df_unique = companies_df.drop_duplicates(subset='company_id', keep='first')\n",
    "\n",
    "# Counting the number of rows after removing duplicates\n",
    "num_rows_companies_unique = companies_df_unique.shape[0]\n",
    "num_rows_companies_unique"
   ]
  },
  {
   "cell_type": "markdown",
   "id": "6f22878f",
   "metadata": {},
   "source": [
    "The Employee Counts dataset has been modified to ensure that each company appears only once, retaining the row with the highest follower count for companies that had multiple entries. The number of rows in the modified dataset is now 11,323"
   ]
  },
  {
   "cell_type": "code",
   "execution_count": 8,
   "id": "51f5ac3b",
   "metadata": {},
   "outputs": [
    {
     "data": {
      "text/plain": [
       "11323"
      ]
     },
     "execution_count": 8,
     "metadata": {},
     "output_type": "execute_result"
    }
   ],
   "source": [
    "# Modifying the employee_counts dataset to ensure each company appears only once\n",
    "# We will keep the row with the highest follower count for each company\n",
    "\n",
    "# Sorting by company_id and follower_count (descending) to have the highest follower count at the top\n",
    "employee_counts_sorted = employee_counts_df.sort_values(by=['company_id', 'follower_count'], ascending=[True, False])\n",
    "\n",
    "# Dropping duplicates, keeping the first occurrence (which has the highest follower count due to sorting)\n",
    "employee_counts_unique = employee_counts_sorted.drop_duplicates(subset='company_id', keep='first')\n",
    "\n",
    "# Counting the number of rows after modification\n",
    "num_rows_employee_counts_unique = employee_counts_unique.shape[0]\n",
    "num_rows_employee_counts_unique"
   ]
  },
  {
   "cell_type": "markdown",
   "id": "f23c9bfe",
   "metadata": {},
   "source": [
    "The Company Industries dataset has been modified so that each company appears only once, with all of its associated industries combined into an array of strings in the same row. This format allows for a more consolidated view of each company's industries."
   ]
  },
  {
   "cell_type": "code",
   "execution_count": 9,
   "id": "b4fa4b5d",
   "metadata": {},
   "outputs": [
    {
     "data": {
      "text/html": [
       "<div>\n",
       "<style scoped>\n",
       "    .dataframe tbody tr th:only-of-type {\n",
       "        vertical-align: middle;\n",
       "    }\n",
       "\n",
       "    .dataframe tbody tr th {\n",
       "        vertical-align: top;\n",
       "    }\n",
       "\n",
       "    .dataframe thead th {\n",
       "        text-align: right;\n",
       "    }\n",
       "</style>\n",
       "<table border=\"1\" class=\"dataframe\">\n",
       "  <thead>\n",
       "    <tr style=\"text-align: right;\">\n",
       "      <th></th>\n",
       "      <th>company_id</th>\n",
       "      <th>industry</th>\n",
       "    </tr>\n",
       "  </thead>\n",
       "  <tbody>\n",
       "    <tr>\n",
       "      <th>0</th>\n",
       "      <td>1009</td>\n",
       "      <td>[Information Technology &amp; Services, IT Service...</td>\n",
       "    </tr>\n",
       "    <tr>\n",
       "      <th>1</th>\n",
       "      <td>1016</td>\n",
       "      <td>[Hospital &amp; Health Care, Hospitals and Health ...</td>\n",
       "    </tr>\n",
       "    <tr>\n",
       "      <th>2</th>\n",
       "      <td>1021</td>\n",
       "      <td>[Renewables &amp; Environment, Renewable Energy Se...</td>\n",
       "    </tr>\n",
       "    <tr>\n",
       "      <th>3</th>\n",
       "      <td>1025</td>\n",
       "      <td>[Information Technology &amp; Services, IT Service...</td>\n",
       "    </tr>\n",
       "    <tr>\n",
       "      <th>4</th>\n",
       "      <td>1028</td>\n",
       "      <td>[Information Technology &amp; Services, IT Service...</td>\n",
       "    </tr>\n",
       "  </tbody>\n",
       "</table>\n",
       "</div>"
      ],
      "text/plain": [
       "   company_id                                           industry\n",
       "0        1009  [Information Technology & Services, IT Service...\n",
       "1        1016  [Hospital & Health Care, Hospitals and Health ...\n",
       "2        1021  [Renewables & Environment, Renewable Energy Se...\n",
       "3        1025  [Information Technology & Services, IT Service...\n",
       "4        1028  [Information Technology & Services, IT Service..."
      ]
     },
     "execution_count": 9,
     "metadata": {},
     "output_type": "execute_result"
    }
   ],
   "source": [
    "# Modifying the company_industries dataset to have each company appear only once\n",
    "# with all associated industries in the same row as an array of strings\n",
    "\n",
    "# Grouping by company_id and aggregating industries into a list\n",
    "company_industries_grouped = company_industries_df.groupby('company_id')['industry'].apply(list).reset_index()\n",
    "\n",
    "# Check the first few rows of the modified dataset\n",
    "company_industries_grouped.head()"
   ]
  },
  {
   "cell_type": "markdown",
   "id": "791b5a60",
   "metadata": {},
   "source": [
    "The Company Specialities dataset has been modified so that each company appears only once, with all of its associated specialities combined into an array of strings in the same row. This format provides a consolidated view of each company's specialities."
   ]
  },
  {
   "cell_type": "code",
   "execution_count": 10,
   "id": "176e2a6c",
   "metadata": {},
   "outputs": [
    {
     "data": {
      "text/html": [
       "<div>\n",
       "<style scoped>\n",
       "    .dataframe tbody tr th:only-of-type {\n",
       "        vertical-align: middle;\n",
       "    }\n",
       "\n",
       "    .dataframe tbody tr th {\n",
       "        vertical-align: top;\n",
       "    }\n",
       "\n",
       "    .dataframe thead th {\n",
       "        text-align: right;\n",
       "    }\n",
       "</style>\n",
       "<table border=\"1\" class=\"dataframe\">\n",
       "  <thead>\n",
       "    <tr style=\"text-align: right;\">\n",
       "      <th></th>\n",
       "      <th>company_id</th>\n",
       "      <th>speciality</th>\n",
       "    </tr>\n",
       "  </thead>\n",
       "  <tbody>\n",
       "    <tr>\n",
       "      <th>0</th>\n",
       "      <td>1009</td>\n",
       "      <td>[Cloud, Mobile, Cognitive, Security, Research,...</td>\n",
       "    </tr>\n",
       "    <tr>\n",
       "      <th>1</th>\n",
       "      <td>1016</td>\n",
       "      <td>[Healthcare, Biotechnology]</td>\n",
       "    </tr>\n",
       "    <tr>\n",
       "      <th>2</th>\n",
       "      <td>1021</td>\n",
       "      <td>[Distributed Power, Gasification, Generators, ...</td>\n",
       "    </tr>\n",
       "    <tr>\n",
       "      <th>3</th>\n",
       "      <td>1028</td>\n",
       "      <td>[enterprise, software, applications, database,...</td>\n",
       "    </tr>\n",
       "    <tr>\n",
       "      <th>4</th>\n",
       "      <td>1033</td>\n",
       "      <td>[Management Consulting, Systems Integration an...</td>\n",
       "    </tr>\n",
       "  </tbody>\n",
       "</table>\n",
       "</div>"
      ],
      "text/plain": [
       "   company_id                                         speciality\n",
       "0        1009  [Cloud, Mobile, Cognitive, Security, Research,...\n",
       "1        1016                        [Healthcare, Biotechnology]\n",
       "2        1021  [Distributed Power, Gasification, Generators, ...\n",
       "3        1028  [enterprise, software, applications, database,...\n",
       "4        1033  [Management Consulting, Systems Integration an..."
      ]
     },
     "execution_count": 10,
     "metadata": {},
     "output_type": "execute_result"
    }
   ],
   "source": [
    "# Modifying the company_specialities dataset to have each company appear only once\n",
    "# with all associated specialities in the same row as an array of strings\n",
    "\n",
    "# Grouping by company_id and aggregating specialities into a list\n",
    "company_specialities_grouped = company_specialities_df.groupby('company_id')['speciality'].apply(list).reset_index()\n",
    "\n",
    "# Check the first few rows of the modified dataset\n",
    "company_specialities_grouped.head()"
   ]
  },
  {
   "cell_type": "code",
   "execution_count": null,
   "id": "adaa894b",
   "metadata": {},
   "outputs": [],
   "source": []
  }
 ],
 "metadata": {
  "kernelspec": {
   "display_name": "Python 3 (ipykernel)",
   "language": "python",
   "name": "python3"
  },
  "language_info": {
   "codemirror_mode": {
    "name": "ipython",
    "version": 3
   },
   "file_extension": ".py",
   "mimetype": "text/x-python",
   "name": "python",
   "nbconvert_exporter": "python",
   "pygments_lexer": "ipython3",
   "version": "3.11.4"
  }
 },
 "nbformat": 4,
 "nbformat_minor": 5
}
