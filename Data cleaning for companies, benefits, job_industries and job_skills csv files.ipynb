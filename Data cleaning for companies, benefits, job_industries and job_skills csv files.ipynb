{
 "cells": [
  {
   "cell_type": "markdown",
   "id": "7af76f3e",
   "metadata": {},
   "source": [
    "1. companies.csv"
   ]
  },
  {
   "cell_type": "markdown",
   "id": "3af957f1",
   "metadata": {},
   "source": [
    "The companies.csv dataset consists of the following columns:\n",
    "\n",
    "company_id: A unique identifier for each company.\n",
    "name: The name of the company.\n",
    "description: A description of the company.\n",
    "company_size: A numerical value representing the size of the company.\n",
    "state: The state in which the company is located.\n",
    "country: The country in which the company is located.\n",
    "city: The city in which the company is located.\n",
    "zip_code: The zip code of the company's location.\n",
    "address: The address of the company.\n",
    "url: The LinkedIn URL of the company."
   ]
  },
  {
   "cell_type": "markdown",
   "id": "0146d010",
   "metadata": {},
   "source": [
    "Preliminary Observations:\n",
    "There are placeholder values like \"0\" and \"-\" for missing data in the state, zip_code, and address columns. We need to handle these appropriately.\n",
    "The company_size is a numerical column, but we should check for outliers or incorrect entries.\n",
    "We need to check for missing values and duplicates.\n",
    "Next Steps:\n",
    "Check for missing values.\n",
    "Check for duplicates.\n",
    "Handle the placeholder values in state, zip_code, and address.\n",
    "Analyze the company_size column for any anomalies or outliers.\n",
    "Check the data types of each column and convert them as needed."
   ]
  },
  {
   "cell_type": "code",
   "execution_count": 18,
   "id": "b0458c0d",
   "metadata": {},
   "outputs": [
    {
     "data": {
      "text/html": [
       "<div>\n",
       "<style scoped>\n",
       "    .dataframe tbody tr th:only-of-type {\n",
       "        vertical-align: middle;\n",
       "    }\n",
       "\n",
       "    .dataframe tbody tr th {\n",
       "        vertical-align: top;\n",
       "    }\n",
       "\n",
       "    .dataframe thead th {\n",
       "        text-align: right;\n",
       "    }\n",
       "</style>\n",
       "<table border=\"1\" class=\"dataframe\">\n",
       "  <thead>\n",
       "    <tr style=\"text-align: right;\">\n",
       "      <th></th>\n",
       "      <th>company_id</th>\n",
       "      <th>name</th>\n",
       "      <th>description</th>\n",
       "      <th>company_size</th>\n",
       "      <th>state</th>\n",
       "      <th>country</th>\n",
       "      <th>city</th>\n",
       "      <th>zip_code</th>\n",
       "      <th>address</th>\n",
       "      <th>url</th>\n",
       "    </tr>\n",
       "  </thead>\n",
       "  <tbody>\n",
       "    <tr>\n",
       "      <th>0</th>\n",
       "      <td>1009</td>\n",
       "      <td>IBM</td>\n",
       "      <td>At IBM, we do more than work. We create. We cr...</td>\n",
       "      <td>7.0</td>\n",
       "      <td>NY</td>\n",
       "      <td>US</td>\n",
       "      <td>Armonk, New York</td>\n",
       "      <td>10504</td>\n",
       "      <td>International Business Machines Corp.</td>\n",
       "      <td>https://www.linkedin.com/company/ibm</td>\n",
       "    </tr>\n",
       "    <tr>\n",
       "      <th>1</th>\n",
       "      <td>1016</td>\n",
       "      <td>GE HealthCare</td>\n",
       "      <td>Every day millions of people feel the impact o...</td>\n",
       "      <td>7.0</td>\n",
       "      <td>0</td>\n",
       "      <td>US</td>\n",
       "      <td>Chicago</td>\n",
       "      <td>0</td>\n",
       "      <td>-</td>\n",
       "      <td>https://www.linkedin.com/company/gehealthcare</td>\n",
       "    </tr>\n",
       "    <tr>\n",
       "      <th>2</th>\n",
       "      <td>1021</td>\n",
       "      <td>GE Power</td>\n",
       "      <td>GE Power, part of GE Vernova, is a world energ...</td>\n",
       "      <td>7.0</td>\n",
       "      <td>NY</td>\n",
       "      <td>US</td>\n",
       "      <td>Schenectady</td>\n",
       "      <td>12345</td>\n",
       "      <td>1 River Road</td>\n",
       "      <td>https://www.linkedin.com/company/gepower</td>\n",
       "    </tr>\n",
       "    <tr>\n",
       "      <th>3</th>\n",
       "      <td>1025</td>\n",
       "      <td>Hewlett Packard Enterprise</td>\n",
       "      <td>Official LinkedIn of Hewlett Packard Enterpris...</td>\n",
       "      <td>7.0</td>\n",
       "      <td>Texas</td>\n",
       "      <td>US</td>\n",
       "      <td>Houston</td>\n",
       "      <td>77389</td>\n",
       "      <td>1701 E Mossy Oaks Rd Spring</td>\n",
       "      <td>https://www.linkedin.com/company/hewlett-packa...</td>\n",
       "    </tr>\n",
       "    <tr>\n",
       "      <th>4</th>\n",
       "      <td>1028</td>\n",
       "      <td>Oracle</td>\n",
       "      <td>We’re a cloud technology company that provides...</td>\n",
       "      <td>7.0</td>\n",
       "      <td>Texas</td>\n",
       "      <td>US</td>\n",
       "      <td>Austin</td>\n",
       "      <td>78741</td>\n",
       "      <td>2300 Oracle Way</td>\n",
       "      <td>https://www.linkedin.com/company/oracle</td>\n",
       "    </tr>\n",
       "  </tbody>\n",
       "</table>\n",
       "</div>"
      ],
      "text/plain": [
       "   company_id                        name  \\\n",
       "0        1009                         IBM   \n",
       "1        1016               GE HealthCare   \n",
       "2        1021                    GE Power   \n",
       "3        1025  Hewlett Packard Enterprise   \n",
       "4        1028                      Oracle   \n",
       "\n",
       "                                         description  company_size  state  \\\n",
       "0  At IBM, we do more than work. We create. We cr...           7.0     NY   \n",
       "1  Every day millions of people feel the impact o...           7.0      0   \n",
       "2  GE Power, part of GE Vernova, is a world energ...           7.0     NY   \n",
       "3  Official LinkedIn of Hewlett Packard Enterpris...           7.0  Texas   \n",
       "4  We’re a cloud technology company that provides...           7.0  Texas   \n",
       "\n",
       "  country              city zip_code                                address  \\\n",
       "0      US  Armonk, New York    10504  International Business Machines Corp.   \n",
       "1      US           Chicago        0                                      -   \n",
       "2      US       Schenectady    12345                           1 River Road   \n",
       "3      US           Houston    77389            1701 E Mossy Oaks Rd Spring   \n",
       "4      US            Austin    78741                        2300 Oracle Way   \n",
       "\n",
       "                                                 url  \n",
       "0               https://www.linkedin.com/company/ibm  \n",
       "1      https://www.linkedin.com/company/gehealthcare  \n",
       "2           https://www.linkedin.com/company/gepower  \n",
       "3  https://www.linkedin.com/company/hewlett-packa...  \n",
       "4            https://www.linkedin.com/company/oracle  "
      ]
     },
     "execution_count": 18,
     "metadata": {},
     "output_type": "execute_result"
    }
   ],
   "source": [
    "import pandas as pd\n",
    "\n",
    "# Load the first dataset\n",
    "companies_df = pd.read_csv('companies.csv')\n",
    "\n",
    "# Display the first few rows of the DataFrame\n",
    "companies_df.head()"
   ]
  },
  {
   "cell_type": "code",
   "execution_count": 19,
   "id": "1b2bc9d7",
   "metadata": {},
   "outputs": [
    {
     "data": {
      "text/plain": [
       "company_id        0\n",
       "name              0\n",
       "description      64\n",
       "company_size    589\n",
       "state             3\n",
       "country           0\n",
       "city              0\n",
       "zip_code          8\n",
       "address           5\n",
       "url               0\n",
       "dtype: int64"
      ]
     },
     "execution_count": 19,
     "metadata": {},
     "output_type": "execute_result"
    }
   ],
   "source": [
    "# Check for missing values in the dataset\n",
    "companies_missing_values = companies_df.isnull().sum()\n",
    "\n",
    "companies_missing_values\n"
   ]
  },
  {
   "cell_type": "markdown",
   "id": "9fe3a1d2",
   "metadata": {},
   "source": [
    "We have missing values in the following columns:\n",
    "\n",
    "description: 64 missing values\n",
    "company_size: 589 missing values\n",
    "state: 3 missing values\n",
    "zip_code: 8 missing values\n",
    "address: 5 missing values\n",
    "Strategies to Handle Missing Values:\n",
    "Description:\n",
    "\n",
    "Given that this is a text column, we can either leave it as is or fill the missing values with a placeholder like \"Not Available.\"\n",
    "Company Size:\n",
    "\n",
    "We can consider filling the missing values with the median or mean company size, or categorize them as unknown.\n",
    "State, Zip Code, and Address:\n",
    "\n",
    "These are location-based columns. We could try to impute these based on the other location information available or categorize them as unknown.\n",
    "L"
   ]
  },
  {
   "cell_type": "markdown",
   "id": "e340dea5",
   "metadata": {},
   "source": [
    "check for duplicate rows in the dataset"
   ]
  },
  {
   "cell_type": "code",
   "execution_count": 20,
   "id": "75a4b296",
   "metadata": {},
   "outputs": [
    {
     "data": {
      "text/plain": [
       "(0,\n",
       " Empty DataFrame\n",
       " Columns: [company_id, name, description, company_size, state, country, city, zip_code, address, url]\n",
       " Index: [])"
      ]
     },
     "execution_count": 20,
     "metadata": {},
     "output_type": "execute_result"
    }
   ],
   "source": [
    "# Check for duplicate rows\n",
    "duplicate_rows = companies_df[companies_df.duplicated()]\n",
    "num_duplicate_rows = duplicate_rows.shape[0]\n",
    "\n",
    "num_duplicate_rows, duplicate_rows.head()  # Display the number of duplicate rows and the first few rows of duplicates if any\n"
   ]
  },
  {
   "cell_type": "markdown",
   "id": "0197b3e5",
   "metadata": {},
   "source": [
    "By handling the missing values in the description column by filling them with a placeholder like \"Not Available\". For the company_size column, we will use the median value to fill the missing values, as it is a numerical column. We'll replace missing values and placeholders in state, zip_code, and address with \"Unknown\"."
   ]
  },
  {
   "cell_type": "code",
   "execution_count": 22,
   "id": "bee4947c",
   "metadata": {},
   "outputs": [
    {
     "data": {
      "text/plain": [
       "company_id      0\n",
       "name            0\n",
       "description     0\n",
       "company_size    0\n",
       "state           0\n",
       "country         0\n",
       "city            0\n",
       "zip_code        0\n",
       "address         0\n",
       "url             0\n",
       "dtype: int64"
      ]
     },
     "execution_count": 22,
     "metadata": {},
     "output_type": "execute_result"
    }
   ],
   "source": [
    "\n",
    "# Fill missing values in the 'description' column with 'Not Available'\n",
    "companies_df['description'].fillna('Not Available', inplace=True)\n",
    "\n",
    "# Fill missing values in the 'company_size' column with the median value\n",
    "median_size = companies_df['company_size'].median()\n",
    "companies_df['company_size'].fillna(median_size, inplace=True)\n",
    "\n",
    "# Replace placeholder values and fill missing values in 'state', 'zip_code', and 'address' with 'Unknown'\n",
    "columns_with_placeholders = ['state', 'zip_code', 'address']\n",
    "companies_df[columns_with_placeholders] = companies_df[columns_with_placeholders].replace(['0', '-'], 'Unknown')\n",
    "companies_df.fillna('Unknown', inplace=True)\n",
    "\n",
    "# Check if there are still any missing values\n",
    "companies_df.isnull().sum()\n"
   ]
  },
  {
   "cell_type": "markdown",
   "id": "0bb1aa1f",
   "metadata": {},
   "source": [
    "check the data types of each column in the companies.csv dataset "
   ]
  },
  {
   "cell_type": "code",
   "execution_count": 23,
   "id": "9e44973c",
   "metadata": {},
   "outputs": [
    {
     "data": {
      "text/plain": [
       "company_id        int64\n",
       "name             object\n",
       "description      object\n",
       "company_size    float64\n",
       "state            object\n",
       "country          object\n",
       "city             object\n",
       "zip_code         object\n",
       "address          object\n",
       "url              object\n",
       "dtype: object"
      ]
     },
     "execution_count": 23,
     "metadata": {},
     "output_type": "execute_result"
    }
   ],
   "source": [
    "# Check the data types of each column\n",
    "companies_df.dtypes"
   ]
  },
  {
   "cell_type": "markdown",
   "id": "818287d8",
   "metadata": {},
   "source": [
    "company_id: Integer\n",
    "name: String (Object)\n",
    "description: String (Object)\n",
    "company_size: Float\n",
    "state: String (Object)\n",
    "country: String (Object)\n",
    "city: String (Object)\n",
    "zip_code: String (Object)\n",
    "address: String (Object)\n",
    "url: String (Object)"
   ]
  },
  {
   "cell_type": "markdown",
   "id": "aaff7df6",
   "metadata": {},
   "source": [
    "Observations:\n",
    "The company_id is an integer, which is appropriate since it’s an identifier.\n",
    "The company_size is a float; we might want to consider whether an integer type would be more appropriate.\n",
    "Other columns like name, description, state, country, city, zip_code, address, and url are objects (strings), which is suitable for textual data.\n",
    "Actions to Consider:\n",
    "We might consider converting the company_size to an integer type since having a float type might not make sense for counting the number of employees or size categories.\n",
    "Ensure that textual data is cleaned and standardized, for instance, ensuring consistent capitalization."
   ]
  },
  {
   "cell_type": "markdown",
   "id": "a49bfe62",
   "metadata": {},
   "source": [
    "converting the company_size column to an integer data type\n"
   ]
  },
  {
   "cell_type": "code",
   "execution_count": 24,
   "id": "edf0540f",
   "metadata": {},
   "outputs": [
    {
     "data": {
      "text/plain": [
       "company_id       int64\n",
       "name            object\n",
       "description     object\n",
       "company_size     int64\n",
       "state           object\n",
       "country         object\n",
       "city            object\n",
       "zip_code        object\n",
       "address         object\n",
       "url             object\n",
       "dtype: object"
      ]
     },
     "execution_count": 24,
     "metadata": {},
     "output_type": "execute_result"
    }
   ],
   "source": [
    "# Convert the 'company_size' column to integer type\n",
    "companies_df['company_size'] = companies_df['company_size'].astype(int)\n",
    "\n",
    "# Check the data types again to confirm the conversion\n",
    "companies_df.dtypes\n"
   ]
  },
  {
   "cell_type": "markdown",
   "id": "752c208f",
   "metadata": {},
   "source": [
    "The company_size column has been successfully converted to an integer type."
   ]
  },
  {
   "cell_type": "markdown",
   "id": "84c400f9",
   "metadata": {},
   "source": [
    "Convert the textual data in the name, description, state, country, city, and address columns to lowercase to ensure consistency"
   ]
  },
  {
   "cell_type": "code",
   "execution_count": 25,
   "id": "0c5b4e76",
   "metadata": {},
   "outputs": [
    {
     "data": {
      "text/html": [
       "<div>\n",
       "<style scoped>\n",
       "    .dataframe tbody tr th:only-of-type {\n",
       "        vertical-align: middle;\n",
       "    }\n",
       "\n",
       "    .dataframe tbody tr th {\n",
       "        vertical-align: top;\n",
       "    }\n",
       "\n",
       "    .dataframe thead th {\n",
       "        text-align: right;\n",
       "    }\n",
       "</style>\n",
       "<table border=\"1\" class=\"dataframe\">\n",
       "  <thead>\n",
       "    <tr style=\"text-align: right;\">\n",
       "      <th></th>\n",
       "      <th>company_id</th>\n",
       "      <th>name</th>\n",
       "      <th>description</th>\n",
       "      <th>company_size</th>\n",
       "      <th>state</th>\n",
       "      <th>country</th>\n",
       "      <th>city</th>\n",
       "      <th>zip_code</th>\n",
       "      <th>address</th>\n",
       "      <th>url</th>\n",
       "    </tr>\n",
       "  </thead>\n",
       "  <tbody>\n",
       "    <tr>\n",
       "      <th>0</th>\n",
       "      <td>1009</td>\n",
       "      <td>ibm</td>\n",
       "      <td>at ibm, we do more than work. we create. we cr...</td>\n",
       "      <td>7</td>\n",
       "      <td>ny</td>\n",
       "      <td>us</td>\n",
       "      <td>armonk, new york</td>\n",
       "      <td>10504</td>\n",
       "      <td>international business machines corp.</td>\n",
       "      <td>https://www.linkedin.com/company/ibm</td>\n",
       "    </tr>\n",
       "    <tr>\n",
       "      <th>1</th>\n",
       "      <td>1016</td>\n",
       "      <td>ge healthcare</td>\n",
       "      <td>every day millions of people feel the impact o...</td>\n",
       "      <td>7</td>\n",
       "      <td>unknown</td>\n",
       "      <td>us</td>\n",
       "      <td>chicago</td>\n",
       "      <td>Unknown</td>\n",
       "      <td>unknown</td>\n",
       "      <td>https://www.linkedin.com/company/gehealthcare</td>\n",
       "    </tr>\n",
       "    <tr>\n",
       "      <th>2</th>\n",
       "      <td>1021</td>\n",
       "      <td>ge power</td>\n",
       "      <td>ge power, part of ge vernova, is a world energ...</td>\n",
       "      <td>7</td>\n",
       "      <td>ny</td>\n",
       "      <td>us</td>\n",
       "      <td>schenectady</td>\n",
       "      <td>12345</td>\n",
       "      <td>1 river road</td>\n",
       "      <td>https://www.linkedin.com/company/gepower</td>\n",
       "    </tr>\n",
       "    <tr>\n",
       "      <th>3</th>\n",
       "      <td>1025</td>\n",
       "      <td>hewlett packard enterprise</td>\n",
       "      <td>official linkedin of hewlett packard enterpris...</td>\n",
       "      <td>7</td>\n",
       "      <td>texas</td>\n",
       "      <td>us</td>\n",
       "      <td>houston</td>\n",
       "      <td>77389</td>\n",
       "      <td>1701 e mossy oaks rd spring</td>\n",
       "      <td>https://www.linkedin.com/company/hewlett-packa...</td>\n",
       "    </tr>\n",
       "    <tr>\n",
       "      <th>4</th>\n",
       "      <td>1028</td>\n",
       "      <td>oracle</td>\n",
       "      <td>we’re a cloud technology company that provides...</td>\n",
       "      <td>7</td>\n",
       "      <td>texas</td>\n",
       "      <td>us</td>\n",
       "      <td>austin</td>\n",
       "      <td>78741</td>\n",
       "      <td>2300 oracle way</td>\n",
       "      <td>https://www.linkedin.com/company/oracle</td>\n",
       "    </tr>\n",
       "  </tbody>\n",
       "</table>\n",
       "</div>"
      ],
      "text/plain": [
       "   company_id                        name  \\\n",
       "0        1009                         ibm   \n",
       "1        1016               ge healthcare   \n",
       "2        1021                    ge power   \n",
       "3        1025  hewlett packard enterprise   \n",
       "4        1028                      oracle   \n",
       "\n",
       "                                         description  company_size    state  \\\n",
       "0  at ibm, we do more than work. we create. we cr...             7       ny   \n",
       "1  every day millions of people feel the impact o...             7  unknown   \n",
       "2  ge power, part of ge vernova, is a world energ...             7       ny   \n",
       "3  official linkedin of hewlett packard enterpris...             7    texas   \n",
       "4  we’re a cloud technology company that provides...             7    texas   \n",
       "\n",
       "  country              city zip_code                                address  \\\n",
       "0      us  armonk, new york    10504  international business machines corp.   \n",
       "1      us           chicago  Unknown                                unknown   \n",
       "2      us       schenectady    12345                           1 river road   \n",
       "3      us           houston    77389            1701 e mossy oaks rd spring   \n",
       "4      us            austin    78741                        2300 oracle way   \n",
       "\n",
       "                                                 url  \n",
       "0               https://www.linkedin.com/company/ibm  \n",
       "1      https://www.linkedin.com/company/gehealthcare  \n",
       "2           https://www.linkedin.com/company/gepower  \n",
       "3  https://www.linkedin.com/company/hewlett-packa...  \n",
       "4            https://www.linkedin.com/company/oracle  "
      ]
     },
     "execution_count": 25,
     "metadata": {},
     "output_type": "execute_result"
    }
   ],
   "source": [
    "# List of columns to convert to lowercase\n",
    "text_columns = ['name', 'description', 'state', 'country', 'city', 'address']\n",
    "\n",
    "# Convert the textual data to lowercase\n",
    "companies_df[text_columns] = companies_df[text_columns].applymap(str.lower)\n",
    "\n",
    "# Display the first few rows of the DataFrame to confirm the changes\n",
    "companies_df.head()"
   ]
  },
  {
   "cell_type": "markdown",
   "id": "478497a8",
   "metadata": {},
   "source": [
    "2. Benefits.csv\n",
    "\n",
    "The benefits.csv file contains the following columns:\n",
    "\n",
    "job_id: An identifier for each job.\n",
    "inferred: A binary indicator (0 or 1), though it's not clear from the dataset preview what this column represents. We may need more context or information to understand and handle this column appropriately.\n",
    "type: The type of benefit offered.\n",
    "Here are some steps to consider for cleaning this dataset:\n",
    "\n",
    "Checking for missing values.\n",
    "Understanding and handling the inferred column, if necessary.\n",
    "Cleaning or categorizing the type column to ensure consistency in the benefit names/types.\n"
   ]
  },
  {
   "cell_type": "code",
   "execution_count": 5,
   "id": "c3835472",
   "metadata": {},
   "outputs": [
    {
     "data": {
      "text/html": [
       "<div>\n",
       "<style scoped>\n",
       "    .dataframe tbody tr th:only-of-type {\n",
       "        vertical-align: middle;\n",
       "    }\n",
       "\n",
       "    .dataframe tbody tr th {\n",
       "        vertical-align: top;\n",
       "    }\n",
       "\n",
       "    .dataframe thead th {\n",
       "        text-align: right;\n",
       "    }\n",
       "</style>\n",
       "<table border=\"1\" class=\"dataframe\">\n",
       "  <thead>\n",
       "    <tr style=\"text-align: right;\">\n",
       "      <th></th>\n",
       "      <th>job_id</th>\n",
       "      <th>inferred</th>\n",
       "      <th>type</th>\n",
       "    </tr>\n",
       "  </thead>\n",
       "  <tbody>\n",
       "    <tr>\n",
       "      <th>0</th>\n",
       "      <td>3690843087</td>\n",
       "      <td>0</td>\n",
       "      <td>Medical insurance</td>\n",
       "    </tr>\n",
       "    <tr>\n",
       "      <th>1</th>\n",
       "      <td>3690843087</td>\n",
       "      <td>0</td>\n",
       "      <td>Dental insurance</td>\n",
       "    </tr>\n",
       "    <tr>\n",
       "      <th>2</th>\n",
       "      <td>3690843087</td>\n",
       "      <td>0</td>\n",
       "      <td>401(k)</td>\n",
       "    </tr>\n",
       "    <tr>\n",
       "      <th>3</th>\n",
       "      <td>3690843087</td>\n",
       "      <td>0</td>\n",
       "      <td>Paid maternity leave</td>\n",
       "    </tr>\n",
       "    <tr>\n",
       "      <th>4</th>\n",
       "      <td>3690843087</td>\n",
       "      <td>0</td>\n",
       "      <td>Disability insurance</td>\n",
       "    </tr>\n",
       "  </tbody>\n",
       "</table>\n",
       "</div>"
      ],
      "text/plain": [
       "       job_id  inferred                  type\n",
       "0  3690843087         0     Medical insurance\n",
       "1  3690843087         0      Dental insurance\n",
       "2  3690843087         0                401(k)\n",
       "3  3690843087         0  Paid maternity leave\n",
       "4  3690843087         0  Disability insurance"
      ]
     },
     "execution_count": 5,
     "metadata": {},
     "output_type": "execute_result"
    }
   ],
   "source": [
    "# Load the second dataset\n",
    "benefits_df = pd.read_csv('benefits.csv')\n",
    "\n",
    "# Display the first few rows of the dataframe\n",
    "benefits_df.head()"
   ]
  },
  {
   "cell_type": "code",
   "execution_count": 6,
   "id": "8b3a5f8e",
   "metadata": {},
   "outputs": [
    {
     "data": {
      "text/plain": [
       "job_id      0\n",
       "inferred    0\n",
       "type        0\n",
       "dtype: int64"
      ]
     },
     "execution_count": 6,
     "metadata": {},
     "output_type": "execute_result"
    }
   ],
   "source": [
    "# Check for missing values in the benefits dataset\n",
    "benefits_missing_values = benefits_df.isnull().sum()\n",
    "benefits_missing_values\n"
   ]
  },
  {
   "cell_type": "code",
   "execution_count": 7,
   "id": "7551dd28",
   "metadata": {},
   "outputs": [
    {
     "data": {
      "text/html": [
       "<div>\n",
       "<style scoped>\n",
       "    .dataframe tbody tr th:only-of-type {\n",
       "        vertical-align: middle;\n",
       "    }\n",
       "\n",
       "    .dataframe tbody tr th {\n",
       "        vertical-align: top;\n",
       "    }\n",
       "\n",
       "    .dataframe thead th {\n",
       "        text-align: right;\n",
       "    }\n",
       "</style>\n",
       "<table border=\"1\" class=\"dataframe\">\n",
       "  <thead>\n",
       "    <tr style=\"text-align: right;\">\n",
       "      <th></th>\n",
       "      <th>job_id</th>\n",
       "      <th>type</th>\n",
       "    </tr>\n",
       "  </thead>\n",
       "  <tbody>\n",
       "    <tr>\n",
       "      <th>0</th>\n",
       "      <td>3690843087</td>\n",
       "      <td>Medical insurance</td>\n",
       "    </tr>\n",
       "    <tr>\n",
       "      <th>1</th>\n",
       "      <td>3690843087</td>\n",
       "      <td>Dental insurance</td>\n",
       "    </tr>\n",
       "    <tr>\n",
       "      <th>2</th>\n",
       "      <td>3690843087</td>\n",
       "      <td>401(k)</td>\n",
       "    </tr>\n",
       "    <tr>\n",
       "      <th>3</th>\n",
       "      <td>3690843087</td>\n",
       "      <td>Paid maternity leave</td>\n",
       "    </tr>\n",
       "    <tr>\n",
       "      <th>4</th>\n",
       "      <td>3690843087</td>\n",
       "      <td>Disability insurance</td>\n",
       "    </tr>\n",
       "  </tbody>\n",
       "</table>\n",
       "</div>"
      ],
      "text/plain": [
       "       job_id                  type\n",
       "0  3690843087     Medical insurance\n",
       "1  3690843087      Dental insurance\n",
       "2  3690843087                401(k)\n",
       "3  3690843087  Paid maternity leave\n",
       "4  3690843087  Disability insurance"
      ]
     },
     "execution_count": 7,
     "metadata": {},
     "output_type": "execute_result"
    }
   ],
   "source": [
    "# Remove the inferred column\n",
    "benefits_df.drop(columns=['inferred'], inplace=True)\n",
    "\n",
    "# Display the first few rows of the dataframe to verify the changes\n",
    "benefits_df.head()"
   ]
  },
  {
   "cell_type": "code",
   "execution_count": 8,
   "id": "6b8bcef3",
   "metadata": {},
   "outputs": [
    {
     "data": {
      "text/plain": [
       "array(['Medical insurance', 'Dental insurance', '401(k)',\n",
       "       'Paid maternity leave', 'Disability insurance', 'Vision insurance',\n",
       "       'Tuition assistance', 'Pension plan', 'Paid paternity leave',\n",
       "       'Commuter benefits', 'Student loan assistance',\n",
       "       'Child care support'], dtype=object)"
      ]
     },
     "execution_count": 8,
     "metadata": {},
     "output_type": "execute_result"
    }
   ],
   "source": [
    "# Display unique values in the 'type' column\n",
    "benefits_unique_types = benefits_df['type'].unique()\n",
    "benefits_unique_types\n"
   ]
  },
  {
   "cell_type": "markdown",
   "id": "3c4df802",
   "metadata": {},
   "source": [
    "3. job_industries.csv\n",
    "\n",
    "The job_industries.csv file contains the following columns:\n",
    "\n",
    "job_id: An identifier for each job.\n",
    "industry_id: An identifier for each industry.\n",
    "The dataset seems straightforward. Here are the cleaning steps we might consider:\n",
    "\n",
    "Checking for missing values.\n",
    "Ensuring that the IDs are consistent and meaningful (we might need additional data to map IDs to actual industry names).\n"
   ]
  },
  {
   "cell_type": "code",
   "execution_count": 10,
   "id": "1922ed78",
   "metadata": {},
   "outputs": [
    {
     "data": {
      "text/html": [
       "<div>\n",
       "<style scoped>\n",
       "    .dataframe tbody tr th:only-of-type {\n",
       "        vertical-align: middle;\n",
       "    }\n",
       "\n",
       "    .dataframe tbody tr th {\n",
       "        vertical-align: top;\n",
       "    }\n",
       "\n",
       "    .dataframe thead th {\n",
       "        text-align: right;\n",
       "    }\n",
       "</style>\n",
       "<table border=\"1\" class=\"dataframe\">\n",
       "  <thead>\n",
       "    <tr style=\"text-align: right;\">\n",
       "      <th></th>\n",
       "      <th>job_id</th>\n",
       "      <th>industry_id</th>\n",
       "    </tr>\n",
       "  </thead>\n",
       "  <tbody>\n",
       "    <tr>\n",
       "      <th>0</th>\n",
       "      <td>3378133231</td>\n",
       "      <td>68</td>\n",
       "    </tr>\n",
       "    <tr>\n",
       "      <th>1</th>\n",
       "      <td>3497509795</td>\n",
       "      <td>96</td>\n",
       "    </tr>\n",
       "    <tr>\n",
       "      <th>2</th>\n",
       "      <td>3690843087</td>\n",
       "      <td>47</td>\n",
       "    </tr>\n",
       "    <tr>\n",
       "      <th>3</th>\n",
       "      <td>3691775263</td>\n",
       "      <td>112</td>\n",
       "    </tr>\n",
       "    <tr>\n",
       "      <th>4</th>\n",
       "      <td>3691779379</td>\n",
       "      <td>80</td>\n",
       "    </tr>\n",
       "  </tbody>\n",
       "</table>\n",
       "</div>"
      ],
      "text/plain": [
       "       job_id  industry_id\n",
       "0  3378133231           68\n",
       "1  3497509795           96\n",
       "2  3690843087           47\n",
       "3  3691775263          112\n",
       "4  3691779379           80"
      ]
     },
     "execution_count": 10,
     "metadata": {},
     "output_type": "execute_result"
    }
   ],
   "source": [
    "# Load the third dataset\n",
    "job_industries_df = pd.read_csv('job_industries.csv')\n",
    "\n",
    "# Display the first few rows of the dataframe\n",
    "job_industries_df.head()\n"
   ]
  },
  {
   "cell_type": "code",
   "execution_count": 11,
   "id": "e79cbdc7",
   "metadata": {},
   "outputs": [
    {
     "data": {
      "text/plain": [
       "job_id         0\n",
       "industry_id    0\n",
       "dtype: int64"
      ]
     },
     "execution_count": 11,
     "metadata": {},
     "output_type": "execute_result"
    }
   ],
   "source": [
    "# Check for missing values in the job_industries dataset\n",
    "job_industries_missing_values = job_industries_df.isnull().sum()\n",
    "job_industries_missing_values\n"
   ]
  },
  {
   "cell_type": "code",
   "execution_count": null,
   "id": "13313ef9",
   "metadata": {},
   "outputs": [],
   "source": [
    "There are no missing values in the job_industries.csv dataset."
   ]
  },
  {
   "cell_type": "markdown",
   "id": "6a633493",
   "metadata": {},
   "source": [
    "4. job_skills.csv\n",
    "\n",
    "The job_skills.csv file contains the following columns:\n",
    "\n",
    "job_id: An identifier for each job.\n",
    "skill_abr: An abbreviation for the skills required for the job.\n",
    "Here are some steps to consider for cleaning this dataset:\n",
    "\n",
    "Checking for missing values.\n",
    "Understanding and handling the skill_abr column to ensure consistency in the skill abbreviations."
   ]
  },
  {
   "cell_type": "code",
   "execution_count": 12,
   "id": "fe68da2a",
   "metadata": {},
   "outputs": [
    {
     "data": {
      "text/html": [
       "<div>\n",
       "<style scoped>\n",
       "    .dataframe tbody tr th:only-of-type {\n",
       "        vertical-align: middle;\n",
       "    }\n",
       "\n",
       "    .dataframe tbody tr th {\n",
       "        vertical-align: top;\n",
       "    }\n",
       "\n",
       "    .dataframe thead th {\n",
       "        text-align: right;\n",
       "    }\n",
       "</style>\n",
       "<table border=\"1\" class=\"dataframe\">\n",
       "  <thead>\n",
       "    <tr style=\"text-align: right;\">\n",
       "      <th></th>\n",
       "      <th>job_id</th>\n",
       "      <th>skill_abr</th>\n",
       "    </tr>\n",
       "  </thead>\n",
       "  <tbody>\n",
       "    <tr>\n",
       "      <th>0</th>\n",
       "      <td>3690843087</td>\n",
       "      <td>ACCT</td>\n",
       "    </tr>\n",
       "    <tr>\n",
       "      <th>1</th>\n",
       "      <td>3690843087</td>\n",
       "      <td>FIN</td>\n",
       "    </tr>\n",
       "    <tr>\n",
       "      <th>2</th>\n",
       "      <td>3691763971</td>\n",
       "      <td>MGMT</td>\n",
       "    </tr>\n",
       "    <tr>\n",
       "      <th>3</th>\n",
       "      <td>3691763971</td>\n",
       "      <td>MNFC</td>\n",
       "    </tr>\n",
       "    <tr>\n",
       "      <th>4</th>\n",
       "      <td>3691775263</td>\n",
       "      <td>MGMT</td>\n",
       "    </tr>\n",
       "  </tbody>\n",
       "</table>\n",
       "</div>"
      ],
      "text/plain": [
       "       job_id skill_abr\n",
       "0  3690843087      ACCT\n",
       "1  3690843087       FIN\n",
       "2  3691763971      MGMT\n",
       "3  3691763971      MNFC\n",
       "4  3691775263      MGMT"
      ]
     },
     "execution_count": 12,
     "metadata": {},
     "output_type": "execute_result"
    }
   ],
   "source": [
    "# Load the fourth dataset\n",
    "job_skills_df = pd.read_csv('job_skills.csv')\n",
    "\n",
    "# Display the first few rows of the dataframe\n",
    "job_skills_df.head()\n"
   ]
  },
  {
   "cell_type": "code",
   "execution_count": 13,
   "id": "4f44abe5",
   "metadata": {},
   "outputs": [
    {
     "data": {
      "text/plain": [
       "job_id       0\n",
       "skill_abr    0\n",
       "dtype: int64"
      ]
     },
     "execution_count": 13,
     "metadata": {},
     "output_type": "execute_result"
    }
   ],
   "source": [
    "# Check for missing values in the job_skills dataset\n",
    "job_skills_missing_values = job_skills_df.isnull().sum()\n",
    "job_skills_missing_values"
   ]
  },
  {
   "cell_type": "markdown",
   "id": "62c7051f",
   "metadata": {},
   "source": [
    "There are no missing values in the job_skills.csv dataset."
   ]
  },
  {
   "cell_type": "code",
   "execution_count": 15,
   "id": "28943af5",
   "metadata": {},
   "outputs": [
    {
     "data": {
      "text/plain": [
       "array(['ACCT', 'FIN', 'MGMT', 'MNFC', 'HCPR', 'ENG', 'IT', 'ADM', 'SALE',\n",
       "       'DSGN', 'ART', 'EDU', 'TRNG', 'BD', 'PRJM', 'CNSL', 'STRA', 'OTHR',\n",
       "       'RSCH', 'GENB'], dtype=object)"
      ]
     },
     "execution_count": 15,
     "metadata": {},
     "output_type": "execute_result"
    }
   ],
   "source": [
    "# Display unique values in the 'skill_abr' column\n",
    "job_skills_unique_abr = job_skills_df['skill_abr'].unique()\n",
    "job_skills_unique_abr[:20]  # Display the first 20 unique skill abbreviations to avoid a long output"
   ]
  },
  {
   "cell_type": "code",
   "execution_count": null,
   "id": "0647e305",
   "metadata": {},
   "outputs": [],
   "source": []
  }
 ],
 "metadata": {
  "kernelspec": {
   "display_name": "Python 3 (ipykernel)",
   "language": "python",
   "name": "python3"
  },
  "language_info": {
   "codemirror_mode": {
    "name": "ipython",
    "version": 3
   },
   "file_extension": ".py",
   "mimetype": "text/x-python",
   "name": "python",
   "nbconvert_exporter": "python",
   "pygments_lexer": "ipython3",
   "version": "3.11.4"
  }
 },
 "nbformat": 4,
 "nbformat_minor": 5
}
