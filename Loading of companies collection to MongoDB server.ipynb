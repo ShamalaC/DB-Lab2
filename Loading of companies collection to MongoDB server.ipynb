{
 "cells": [
  {
   "cell_type": "markdown",
   "id": "9cb5e0a8",
   "metadata": {},
   "source": [
    "# Loading of Companies collection using pymongo"
   ]
  },
  {
   "cell_type": "code",
   "execution_count": 1,
   "id": "b65000b2",
   "metadata": {},
   "outputs": [],
   "source": [
    "import pandas as pd\n",
    "import pymongo\n",
    "from bson import ObjectId\n",
    "\n",
    "# Load the CSV file\n",
    "df = pd.read_csv('denormalized_companies_dataset.csv')\n",
    "\n",
    "# Convert DataFrame to dictionary\n",
    "data = df.to_dict(orient='records')\n",
    "\n",
    "# Connect to MongoDB (update host and port as needed)\n",
    "client = pymongo.MongoClient('mongodb://localhost:27017/')\n",
    "db = client['lab2']\n",
    "companies_collection = db['companies']\n",
    "\n",
    "# Transform and insert data\n",
    "for record in data:\n",
    "    # Transform record if necessary (e.g., converting types, handling missing values)\n",
    "    # Example: Convert 'company_id' to an integer or string and use as _id\n",
    "    if 'company_id' in record and pd.notna(record['company_id']):\n",
    "        record['_id'] = int(record['company_id'])\n",
    "        del record['company_id']\n",
    "\n",
    "    # Insert the record\n",
    "    companies_collection.insert_one(record)\n"
   ]
  },
  {
   "cell_type": "code",
   "execution_count": 3,
   "id": "5604ad72",
   "metadata": {},
   "outputs": [
    {
     "name": "stdout",
     "output_type": "stream",
     "text": [
      "{'_id': 1009, 'name': 'IBM', 'description': 'At IBM, we do more than work. We create. We create as technologists, developers, and engineers. We create with our partners. We create with our competitors. If you\\'re searching for ways to make the world work better through technology and infrastructure, software and consulting, then we want to work with you.\\n\\nWe\\'re here to help every creator turn their \"what if\" into what is. Let\\'s create something that will change everything.', 'company_size': 7.0, 'state': 'NY', 'country': 'US', 'city': 'Armonk, New York', 'zip_code': '10504', 'address': 'International Business Machines Corp.', 'url': 'https://www.linkedin.com/company/ibm', 'industry': \"['Information Technology & Services', 'IT Services and IT Consulting']\", 'speciality': \"['Cloud', 'Mobile', 'Cognitive', 'Security', 'Research', 'Watson', 'Analytics', 'Consulting', 'Commerce', 'Experience Design', 'Internet of Things', 'Technology support', 'Industry solutions', 'Systems services', 'Resiliency services', 'Financing', 'IT infrastructure']\", 'employee_count': 316130.0, 'follower_count': 16114398.0, 'time_recorded': '2023-08-24 04:19:39.000000000'}\n",
      "{'_id': 1016, 'name': 'GE HealthCare', 'description': 'Every day millions of people feel the impact of our intelligent devices, advanced analytics and artificial intelligence. As a leading global medical technology and digital solutions innovator, GE HealthCare enables clinicians to make faster, more informed decisions through intelligent devices, data analytics, applications and services, supported by its Edison intelligence platform.\\n\\nWith over 100 years of healthcare industry experience and around 50,000 employees globally, the company operates at the center of an ecosystem working toward precision health, digitizing healthcare, helping drive productivity and improve outcomes for patients, providers, health systems and researchers around the world.\\n\\nWe embrace a culture of respect, transparency, integrity and diversity and we work to create a world where healthcare has no limits.', 'company_size': 7.0, 'state': '0', 'country': 'US', 'city': 'Chicago', 'zip_code': '0', 'address': '-', 'url': 'https://www.linkedin.com/company/gehealthcare', 'industry': \"['Hospital & Health Care', 'Hospitals and Health Care']\", 'speciality': \"['Healthcare', 'Biotechnology']\", 'employee_count': 54639.0, 'follower_count': 2065363.0, 'time_recorded': '2023-11-04 01:58:44.000000000'}\n",
      "{'_id': 1021, 'name': 'GE Power', 'description': 'GE Power, part of GE Vernova, is a world energy leader that provides technology, solutions and services across the entire energy value chain from the point of generation to consumption. Powering more than a third of the world, it serves customers in more than 150 countries.', 'company_size': 7.0, 'state': 'NY', 'country': 'US', 'city': 'Schenectady', 'zip_code': '12345', 'address': '1 River Road', 'url': 'https://www.linkedin.com/company/gepower', 'industry': \"['Renewables & Environment', 'Renewable Energy Semiconductor Manufacturing']\", 'speciality': \"['Distributed Power', 'Gasification', 'Generators', 'Heavy Duty Gas Turbines', 'Nuclear Energy', 'Steam Turbines', 'power generation', 'energy']\", 'employee_count': 26963.0, 'follower_count': 2340835.0, 'time_recorded': '2023-08-24 08:38:46.000000000'}\n",
      "{'_id': 1025, 'name': 'Hewlett Packard Enterprise', 'description': 'Official LinkedIn of Hewlett Packard Enterprise, the global edge-to-cloud company. Sharing our passion and purpose through technology and innovation. ', 'company_size': 7.0, 'state': 'Texas', 'country': 'US', 'city': 'Houston', 'zip_code': '77389', 'address': '1701 E Mossy Oaks Rd Spring', 'url': 'https://www.linkedin.com/company/hewlett-packard-enterprise', 'industry': \"['Information Technology & Services', 'IT Services and IT Consulting']\", 'speciality': nan, 'employee_count': 70995.0, 'follower_count': 3646359.0, 'time_recorded': '2023-08-24 01:21:37.000000000'}\n",
      "{'_id': 1028, 'name': 'Oracle', 'description': \"We’re a cloud technology company that provides organizations around the world with computing infrastructure and software to help them innovate, unlock efficiencies and become more effective. We also created the world’s first – and only – autonomous database to help organize and secure our customers’ data.\\n \\nOracle Cloud Infrastructure offers higher performance, security, and cost savings. It is designed so businesses can move workloads easily from on-premises systems to the cloud, and between cloud and on-premises and other clouds. Oracle Cloud applications provide business leaders with modern applications that help them innovate, attain sustainable growth, and become more resilient. \\n \\nThe work we do is not only transforming the world of business--it's helping defend governments, and advance scientific and medical research. From nonprofits to companies of all sizes, millions of people use our tools to streamline supply chains, make HR more human, quickly pivot to a new financial plan, and connect data and people around the world.  \\n\\nAt work, we embrace diversity, encourage personal and professional growth, and celebrate a global team of passionate people developing innovative technologies that help people and companies tackle real-world problems head-on.\\n\\nIf you’d like to join us, please visit our Careers page: https://www.oracle.com/corporate/careers/\\n\\nFor investor news, SEC filings, and financial information about Oracle (NYSE:ORCL), please visit https://investor.oracle.com/home/.\\n \\nFollow us on Twitter: https://twitter.com/oracle \\nLike our page on Facebook: https://www.facebook.com/Oracle/ \\nFollow us on Instagram: https://www.instagram.com/oracle/\\n\", 'company_size': 7.0, 'state': 'Texas', 'country': 'US', 'city': 'Austin', 'zip_code': '78741', 'address': '2300 Oracle Way', 'url': 'https://www.linkedin.com/company/oracle', 'industry': \"['Information Technology & Services', 'IT Services and IT Consulting']\", 'speciality': \"['enterprise', 'software', 'applications', 'database', 'middleware', 'fusion', 'business intelligence', 'Primavera', 'PeopleSoft', 'EPM', 'BEA', 'Hyperion', 'Retek', 'Utilities', 'On-Demand', 'server & storage systems', 'BPM', 'solutions for communications industry', 'ERP', 'CRM', 'CRM On Demand', 'JDE', 'Siebel']\", 'employee_count': 202050.0, 'follower_count': 9289574.0, 'time_recorded': '2023-08-24 08:41:49.000000000'}\n",
      "Total documents in the 'companies' collection: 11361\n"
     ]
    }
   ],
   "source": [
    "# Connect to MongoDB\n",
    "client = pymongo.MongoClient('mongodb://localhost:27017/')\n",
    "db = client['lab2']\n",
    "\n",
    "# Fetch and print a few documents from the 'companies' collection\n",
    "for job in db.companies.find().limit(5):\n",
    "    print(job)\n",
    "\n",
    "# Count and print the number of documents in the 'companies' collection\n",
    "count = db.companies.count_documents({})\n",
    "print(\"Total documents in the 'companies' collection:\", count)"
   ]
  },
  {
   "cell_type": "code",
   "execution_count": null,
   "id": "03e99654",
   "metadata": {},
   "outputs": [],
   "source": []
  }
 ],
 "metadata": {
  "kernelspec": {
   "display_name": "Python 3 (ipykernel)",
   "language": "python",
   "name": "python3"
  },
  "language_info": {
   "codemirror_mode": {
    "name": "ipython",
    "version": 3
   },
   "file_extension": ".py",
   "mimetype": "text/x-python",
   "name": "python",
   "nbconvert_exporter": "python",
   "pygments_lexer": "ipython3",
   "version": "3.11.4"
  }
 },
 "nbformat": 4,
 "nbformat_minor": 5
}
