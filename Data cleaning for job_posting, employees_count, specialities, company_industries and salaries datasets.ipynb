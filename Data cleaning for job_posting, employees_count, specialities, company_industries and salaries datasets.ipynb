{
 "cells": [
  {
   "cell_type": "markdown",
   "id": "7cd84c73",
   "metadata": {},
   "source": [
    "1. The job_postings.csv file contains several columns. Here are some of them:\n",
    "\n",
    "job_id: An identifier for each job.\n",
    "company_id: An identifier for each company.\n",
    "title: The title of the job posting.\n",
    "description: The description of the job posting.\n",
    "max_salary, med_salary, min_salary: Information about the salary.\n",
    "pay_period: The pay period (e.g., yearly, monthly).\n",
    "formatted_work_type: The type of work (e.g., full-time, part-time).\n",
    "... and many more.\n",
    "To clean this dataset, we might consider the following steps:\n",
    "\n",
    "Checking for and handling missing values.\n",
    "Converting time-related columns to a readable datetime format.\n",
    "Standardizing or cleaning text data, like job titles and descriptions, if necessary.\n",
    "Handling categorical data and ensuring consistency."
   ]
  },
  {
   "cell_type": "code",
   "execution_count": 43,
   "id": "23f941c7",
   "metadata": {},
   "outputs": [
    {
     "data": {
      "text/html": [
       "<div>\n",
       "<style scoped>\n",
       "    .dataframe tbody tr th:only-of-type {\n",
       "        vertical-align: middle;\n",
       "    }\n",
       "\n",
       "    .dataframe tbody tr th {\n",
       "        vertical-align: top;\n",
       "    }\n",
       "\n",
       "    .dataframe thead th {\n",
       "        text-align: right;\n",
       "    }\n",
       "</style>\n",
       "<table border=\"1\" class=\"dataframe\">\n",
       "  <thead>\n",
       "    <tr style=\"text-align: right;\">\n",
       "      <th></th>\n",
       "      <th>Unnamed: 0.1</th>\n",
       "      <th>Unnamed: 0</th>\n",
       "      <th>job_id</th>\n",
       "      <th>company_id</th>\n",
       "      <th>title</th>\n",
       "      <th>description</th>\n",
       "      <th>max_salary</th>\n",
       "      <th>med_salary</th>\n",
       "      <th>min_salary</th>\n",
       "      <th>pay_period</th>\n",
       "      <th>...</th>\n",
       "      <th>expiry</th>\n",
       "      <th>closed_time</th>\n",
       "      <th>formatted_experience_level</th>\n",
       "      <th>skills_desc</th>\n",
       "      <th>listed_time</th>\n",
       "      <th>posting_domain</th>\n",
       "      <th>sponsored</th>\n",
       "      <th>work_type</th>\n",
       "      <th>currency</th>\n",
       "      <th>compensation_type</th>\n",
       "    </tr>\n",
       "  </thead>\n",
       "  <tbody>\n",
       "    <tr>\n",
       "      <th>0</th>\n",
       "      <td>1</td>\n",
       "      <td>1</td>\n",
       "      <td>133114754</td>\n",
       "      <td>77766802.0</td>\n",
       "      <td>Sales Manager</td>\n",
       "      <td>Are you a dynamic and creative marketing profe...</td>\n",
       "      <td>87937.050736</td>\n",
       "      <td>39689.550554</td>\n",
       "      <td>62043.142567</td>\n",
       "      <td>Unknown</td>\n",
       "      <td>...</td>\n",
       "      <td>1.700000e+12</td>\n",
       "      <td>Unknown</td>\n",
       "      <td>Not Specified</td>\n",
       "      <td>Not Provided</td>\n",
       "      <td>1.690000e+12</td>\n",
       "      <td>Unknown</td>\n",
       "      <td>0</td>\n",
       "      <td>FULL_TIME</td>\n",
       "      <td>Unknown</td>\n",
       "      <td>Unknown</td>\n",
       "    </tr>\n",
       "    <tr>\n",
       "      <th>1</th>\n",
       "      <td>2</td>\n",
       "      <td>2</td>\n",
       "      <td>133196985</td>\n",
       "      <td>1089558.0</td>\n",
       "      <td>Model Risk Auditor</td>\n",
       "      <td>Join Us as a Model Risk Auditor – Showcase You...</td>\n",
       "      <td>87937.050736</td>\n",
       "      <td>39689.550554</td>\n",
       "      <td>62043.142567</td>\n",
       "      <td>Unknown</td>\n",
       "      <td>...</td>\n",
       "      <td>1.700000e+12</td>\n",
       "      <td>Unknown</td>\n",
       "      <td>Not Specified</td>\n",
       "      <td>Not Provided</td>\n",
       "      <td>1.690000e+12</td>\n",
       "      <td>Unknown</td>\n",
       "      <td>0</td>\n",
       "      <td>CONTRACT</td>\n",
       "      <td>Unknown</td>\n",
       "      <td>Unknown</td>\n",
       "    </tr>\n",
       "    <tr>\n",
       "      <th>2</th>\n",
       "      <td>3</td>\n",
       "      <td>3</td>\n",
       "      <td>381055942</td>\n",
       "      <td>96654609.0</td>\n",
       "      <td>Business Manager</td>\n",
       "      <td>Business ManagerFirst Baptist Church ForneyFor...</td>\n",
       "      <td>87937.050736</td>\n",
       "      <td>39689.550554</td>\n",
       "      <td>62043.142567</td>\n",
       "      <td>Unknown</td>\n",
       "      <td>...</td>\n",
       "      <td>1.700000e+12</td>\n",
       "      <td>Unknown</td>\n",
       "      <td>Not Specified</td>\n",
       "      <td>Not Provided</td>\n",
       "      <td>1.690000e+12</td>\n",
       "      <td>Unknown</td>\n",
       "      <td>0</td>\n",
       "      <td>FULL_TIME</td>\n",
       "      <td>Unknown</td>\n",
       "      <td>Unknown</td>\n",
       "    </tr>\n",
       "    <tr>\n",
       "      <th>3</th>\n",
       "      <td>4</td>\n",
       "      <td>4</td>\n",
       "      <td>529257371</td>\n",
       "      <td>1244539.0</td>\n",
       "      <td>NY Studio Assistant</td>\n",
       "      <td>YOU COULD BE ONE OF THE MAGIC MAKERS\\nKen Fulk...</td>\n",
       "      <td>87937.050736</td>\n",
       "      <td>39689.550554</td>\n",
       "      <td>62043.142567</td>\n",
       "      <td>Unknown</td>\n",
       "      <td>...</td>\n",
       "      <td>1.710000e+12</td>\n",
       "      <td>Unknown</td>\n",
       "      <td>Not Specified</td>\n",
       "      <td>Not Provided</td>\n",
       "      <td>1.690000e+12</td>\n",
       "      <td>Unknown</td>\n",
       "      <td>1</td>\n",
       "      <td>FULL_TIME</td>\n",
       "      <td>Unknown</td>\n",
       "      <td>Unknown</td>\n",
       "    </tr>\n",
       "    <tr>\n",
       "      <th>4</th>\n",
       "      <td>5</td>\n",
       "      <td>5</td>\n",
       "      <td>903408693</td>\n",
       "      <td>3894635.0</td>\n",
       "      <td>Office Associate</td>\n",
       "      <td>Provide clerical and administrative support to...</td>\n",
       "      <td>42000.000000</td>\n",
       "      <td>39689.550554</td>\n",
       "      <td>37000.000000</td>\n",
       "      <td>YEARLY</td>\n",
       "      <td>...</td>\n",
       "      <td>1.710000e+12</td>\n",
       "      <td>Unknown</td>\n",
       "      <td>Not Specified</td>\n",
       "      <td>Not Provided</td>\n",
       "      <td>1.690000e+12</td>\n",
       "      <td>Unknown</td>\n",
       "      <td>1</td>\n",
       "      <td>FULL_TIME</td>\n",
       "      <td>USD</td>\n",
       "      <td>BASE_SALARY</td>\n",
       "    </tr>\n",
       "  </tbody>\n",
       "</table>\n",
       "<p>5 rows × 29 columns</p>\n",
       "</div>"
      ],
      "text/plain": [
       "   Unnamed: 0.1  Unnamed: 0     job_id  company_id                title  \\\n",
       "0             1           1  133114754  77766802.0        Sales Manager   \n",
       "1             2           2  133196985   1089558.0   Model Risk Auditor   \n",
       "2             3           3  381055942  96654609.0     Business Manager   \n",
       "3             4           4  529257371   1244539.0  NY Studio Assistant   \n",
       "4             5           5  903408693   3894635.0     Office Associate   \n",
       "\n",
       "                                         description    max_salary  \\\n",
       "0  Are you a dynamic and creative marketing profe...  87937.050736   \n",
       "1  Join Us as a Model Risk Auditor – Showcase You...  87937.050736   \n",
       "2  Business ManagerFirst Baptist Church ForneyFor...  87937.050736   \n",
       "3  YOU COULD BE ONE OF THE MAGIC MAKERS\\nKen Fulk...  87937.050736   \n",
       "4  Provide clerical and administrative support to...  42000.000000   \n",
       "\n",
       "     med_salary    min_salary pay_period  ...        expiry closed_time  \\\n",
       "0  39689.550554  62043.142567    Unknown  ...  1.700000e+12     Unknown   \n",
       "1  39689.550554  62043.142567    Unknown  ...  1.700000e+12     Unknown   \n",
       "2  39689.550554  62043.142567    Unknown  ...  1.700000e+12     Unknown   \n",
       "3  39689.550554  62043.142567    Unknown  ...  1.710000e+12     Unknown   \n",
       "4  39689.550554  37000.000000     YEARLY  ...  1.710000e+12     Unknown   \n",
       "\n",
       "   formatted_experience_level   skills_desc   listed_time posting_domain  \\\n",
       "0               Not Specified  Not Provided  1.690000e+12        Unknown   \n",
       "1               Not Specified  Not Provided  1.690000e+12        Unknown   \n",
       "2               Not Specified  Not Provided  1.690000e+12        Unknown   \n",
       "3               Not Specified  Not Provided  1.690000e+12        Unknown   \n",
       "4               Not Specified  Not Provided  1.690000e+12        Unknown   \n",
       "\n",
       "  sponsored  work_type currency  compensation_type  \n",
       "0         0  FULL_TIME  Unknown            Unknown  \n",
       "1         0   CONTRACT  Unknown            Unknown  \n",
       "2         0  FULL_TIME  Unknown            Unknown  \n",
       "3         1  FULL_TIME  Unknown            Unknown  \n",
       "4         1  FULL_TIME      USD        BASE_SALARY  \n",
       "\n",
       "[5 rows x 29 columns]"
      ]
     },
     "execution_count": 43,
     "metadata": {},
     "output_type": "execute_result"
    }
   ],
   "source": [
    "import pandas as pd\n",
    "# Load the fifth dataset\n",
    "job_postings_df = pd.read_csv('job_postings.csv')\n",
    "\n",
    "# Display the first few rows of the dataframe\n",
    "job_postings_df.head()\n"
   ]
  },
  {
   "cell_type": "markdown",
   "id": "d66e435c",
   "metadata": {},
   "source": [
    "We can observe that several columns have missing values, including company_id, description, max_salary, med_salary, min_salary, pay_period, and others. Here are some steps to address these missing values:\n",
    "\n",
    "For company_id, we can either fill the missing values with a placeholder or remove the rows with missing company IDs, depending on the analysis requirements.\n",
    "For description, since only one row is missing, we could remove that row or fill it with a placeholder text.\n",
    "For salary-related columns (max_salary, med_salary, min_salary), we need to decide whether to fill the missing values with a specific value (e.g., mean, median), interpolate them, or leave them as is.\n",
    "Similar decisions need to be made for other columns with missing values, depending on the context and purpose of the analysis."
   ]
  },
  {
   "cell_type": "code",
   "execution_count": 44,
   "id": "b1bcece5",
   "metadata": {},
   "outputs": [
    {
     "data": {
      "text/plain": [
       "Unnamed: 0.1                     0\n",
       "Unnamed: 0                       0\n",
       "job_id                           0\n",
       "company_id                       0\n",
       "title                            0\n",
       "description                      0\n",
       "max_salary                       0\n",
       "med_salary                       0\n",
       "min_salary                       0\n",
       "pay_period                       0\n",
       "formatted_work_type              0\n",
       "location                         0\n",
       "applies                       7015\n",
       "original_listed_time             0\n",
       "remote_allowed                   0\n",
       "views                            0\n",
       "job_posting_url                  0\n",
       "application_url                  0\n",
       "application_type                 0\n",
       "expiry                           0\n",
       "closed_time                      0\n",
       "formatted_experience_level       0\n",
       "skills_desc                      0\n",
       "listed_time                      0\n",
       "posting_domain                   0\n",
       "sponsored                        0\n",
       "work_type                        0\n",
       "currency                         0\n",
       "compensation_type                0\n",
       "dtype: int64"
      ]
     },
     "execution_count": 44,
     "metadata": {},
     "output_type": "execute_result"
    }
   ],
   "source": [
    "# Check for missing values in the job_postings dataset\n",
    "job_postings_missing_values = job_postings_df.isnull().sum()\n",
    "job_postings_missing_values"
   ]
  },
  {
   "cell_type": "markdown",
   "id": "ba2ad910",
   "metadata": {},
   "source": [
    "1. company_id\n",
    "There are 366 missing values in the company_id column. We can either:\n",
    "\n",
    "Fill them with a placeholder (e.g., -1) to indicate they're missing.\n",
    "Remove the rows with missing company_id"
   ]
  },
  {
   "cell_type": "code",
   "execution_count": 45,
   "id": "ed00e8e6",
   "metadata": {},
   "outputs": [
    {
     "data": {
      "text/plain": [
       "0"
      ]
     },
     "execution_count": 45,
     "metadata": {},
     "output_type": "execute_result"
    }
   ],
   "source": [
    "# Remove rows with missing company_id\n",
    "job_postings_df = job_postings_df.dropna(subset=['company_id'])\n",
    "\n",
    "# Verify the changes\n",
    "job_postings_missing_values_after_company_id = job_postings_df.isnull().sum()\n",
    "job_postings_missing_values_after_company_id['company_id']  # Should be 0"
   ]
  },
  {
   "cell_type": "markdown",
   "id": "72a33e23",
   "metadata": {},
   "source": [
    "The rows with missing company_id have been successfully removed."
   ]
  },
  {
   "cell_type": "markdown",
   "id": "67f3bce9",
   "metadata": {},
   "source": [
    "2. description\n",
    "There is one missing value in the description column. We can either:\n",
    "\n",
    "Fill it with a placeholder text.\n",
    "Remove the row with the missing description."
   ]
  },
  {
   "cell_type": "code",
   "execution_count": 46,
   "id": "cf326364",
   "metadata": {},
   "outputs": [
    {
     "data": {
      "text/plain": [
       "0"
      ]
     },
     "execution_count": 46,
     "metadata": {},
     "output_type": "execute_result"
    }
   ],
   "source": [
    "# Remove rows with missing description\n",
    "job_postings_df = job_postings_df.dropna(subset=['description'])\n",
    "\n",
    "# Verify the changes\n",
    "job_postings_missing_values_after_description = job_postings_df.isnull().sum()\n",
    "job_postings_missing_values_after_description['description']  # Should be 0\n"
   ]
  },
  {
   "cell_type": "markdown",
   "id": "96b62fab",
   "metadata": {},
   "source": [
    "The row with the missing description has been successfully removed."
   ]
  },
  {
   "cell_type": "markdown",
   "id": "d1d5e8d9",
   "metadata": {},
   "source": [
    "3. Salary-Related Columns (max_salary, med_salary, min_salary)\n",
    "There are numerous missing values in these columns. We can handle them in several ways:\n",
    "\n",
    "Fill them with mean, median, or a specific value.\n",
    "Interpolate the values based on other columns.\n",
    "Leave them as is if missing values are acceptable for your analysis."
   ]
  },
  {
   "cell_type": "markdown",
   "id": "3123abd0",
   "metadata": {},
   "source": [
    "linear interpolation for the max_salary, med_salary, and min_salary columns to fill in the missing values. "
   ]
  },
  {
   "cell_type": "code",
   "execution_count": 47,
   "id": "019e514f",
   "metadata": {},
   "outputs": [
    {
     "data": {
      "text/plain": [
       "max_salary    0\n",
       "med_salary    0\n",
       "min_salary    0\n",
       "dtype: int64"
      ]
     },
     "execution_count": 47,
     "metadata": {},
     "output_type": "execute_result"
    }
   ],
   "source": [
    "# Linearly interpolate the missing values in the salary-related columns\n",
    "salary_columns = ['max_salary', 'med_salary', 'min_salary']\n",
    "job_postings_df[salary_columns] = job_postings_df[salary_columns].interpolate()\n",
    "\n",
    "# Verify the changes\n",
    "job_postings_missing_values_after_salary = job_postings_df[salary_columns].isnull().sum()\n",
    "job_postings_missing_values_after_salary"
   ]
  },
  {
   "cell_type": "markdown",
   "id": "765a1bc4",
   "metadata": {},
   "source": [
    "After linear interpolation, there are still a few missing values in the salary-related columns. This can happen when the missing values are at the beginning or the end of the dataset, and linear interpolation cannot estimate them.\n",
    "\n",
    "We can either:\n",
    "\n",
    "Leave these few missing values as they are.\n",
    "Fill them with the mean, median, or another specific value.\n",
    "\n",
    "Fill the remaining missing values in the max_salary, med_salary, and min_salary columns with their respective mean values."
   ]
  },
  {
   "cell_type": "code",
   "execution_count": 48,
   "id": "b055cc6b",
   "metadata": {},
   "outputs": [
    {
     "data": {
      "text/plain": [
       "max_salary    0\n",
       "med_salary    0\n",
       "min_salary    0\n",
       "dtype: int64"
      ]
     },
     "execution_count": 48,
     "metadata": {},
     "output_type": "execute_result"
    }
   ],
   "source": [
    "# Fill the remaining missing values in salary-related columns with their mean values\n",
    "job_postings_df['max_salary'].fillna(job_postings_df['max_salary'].mean(), inplace=True)\n",
    "job_postings_df['med_salary'].fillna(job_postings_df['med_salary'].mean(), inplace=True)\n",
    "job_postings_df['min_salary'].fillna(job_postings_df['min_salary'].mean(), inplace=True)\n",
    "\n",
    "# Verify the changes\n",
    "job_postings_missing_values_after_salary_fillna = job_postings_df[salary_columns].isnull().sum()\n",
    "job_postings_missing_values_after_salary_fillna  # Should all be 0\n"
   ]
  },
  {
   "cell_type": "markdown",
   "id": "b8114870",
   "metadata": {},
   "source": [
    "The remaining missing values in the salary-related columns have been successfully filled with the mean values."
   ]
  },
  {
   "cell_type": "markdown",
   "id": "b0b705cb",
   "metadata": {},
   "source": [
    "4. pay_period\n",
    "There are many missing values in this column. We can:\n",
    "\n",
    "Fill them with a specific value or placeholder.\n",
    "Leave them as is if the analysis doesn't require this information.\n",
    "Fill the missing values in the pay_period column with a placeholder, such as \"Unknown\" or \"Not Provided\""
   ]
  },
  {
   "cell_type": "code",
   "execution_count": 49,
   "id": "6ee85a0c",
   "metadata": {},
   "outputs": [
    {
     "data": {
      "text/plain": [
       "0"
      ]
     },
     "execution_count": 49,
     "metadata": {},
     "output_type": "execute_result"
    }
   ],
   "source": [
    "# Fill missing values in the pay_period column with the placeholder \"Unknown\"\n",
    "job_postings_df['pay_period'].fillna('Unknown', inplace=True)\n",
    "\n",
    "# Verify the changes\n",
    "job_postings_missing_values_after_pay_period = job_postings_df['pay_period'].isnull().sum()\n",
    "job_postings_missing_values_after_pay_period  # Should be 0"
   ]
  },
  {
   "cell_type": "markdown",
   "id": "d0030258",
   "metadata": {},
   "source": [
    "The missing values in the pay_period column have been successfully filled with the \"Unknown\" placeholder."
   ]
  },
  {
   "cell_type": "markdown",
   "id": "af16bb90",
   "metadata": {},
   "source": [
    "5. Other Columns with Missing Values\n",
    "There are other columns with missing values, such as remote_allowed, views, application_url, closed_time, formatted_experience_level, skills_desc, posting_domain, currency, and compensation_type"
   ]
  },
  {
   "cell_type": "markdown",
   "id": "6b3cf0a6",
   "metadata": {},
   "source": [
    "Fill the missing values in the remote_allowed column with the most frequent value (mode)"
   ]
  },
  {
   "cell_type": "code",
   "execution_count": 50,
   "id": "4ee9c834",
   "metadata": {},
   "outputs": [
    {
     "data": {
      "text/plain": [
       "0"
      ]
     },
     "execution_count": 50,
     "metadata": {},
     "output_type": "execute_result"
    }
   ],
   "source": [
    "# Fill missing values in the remote_allowed column with the most frequent value\n",
    "most_frequent_remote_allowed = job_postings_df['remote_allowed'].mode()[0]\n",
    "job_postings_df['remote_allowed'].fillna(most_frequent_remote_allowed, inplace=True)\n",
    "\n",
    "# Verify the changes\n",
    "job_postings_missing_values_after_remote_allowed = job_postings_df['remote_allowed'].isnull().sum()\n",
    "job_postings_missing_values_after_remote_allowed  # Should be 0"
   ]
  },
  {
   "cell_type": "markdown",
   "id": "05891645",
   "metadata": {},
   "source": [
    "The missing values in the remote_allowed column have been successfully filled with the most frequent value."
   ]
  },
  {
   "cell_type": "markdown",
   "id": "4e6936cc",
   "metadata": {},
   "source": [
    "6. formatted_experience_level\n",
    "For this column, we can:\n",
    "\n",
    "Fill the missing values with a specific category, such as \"Not Specified\".\n",
    "Use a method to predict the missing values based on other columns."
   ]
  },
  {
   "cell_type": "code",
   "execution_count": 51,
   "id": "43fc6a9c",
   "metadata": {},
   "outputs": [
    {
     "data": {
      "text/plain": [
       "0"
      ]
     },
     "execution_count": 51,
     "metadata": {},
     "output_type": "execute_result"
    }
   ],
   "source": [
    "# Fill missing values in the formatted_experience_level column with \"Not Specified\"\n",
    "job_postings_df['formatted_experience_level'].fillna('Not Specified', inplace=True)\n",
    "\n",
    "# Verify the changes\n",
    "job_postings_missing_values_after_experience_level = job_postings_df['formatted_experience_level'].isnull().sum()\n",
    "job_postings_missing_values_after_experience_level  # Should be 0"
   ]
  },
  {
   "cell_type": "markdown",
   "id": "c81d0e00",
   "metadata": {},
   "source": [
    "The missing values in the formatted_experience_level column have been successfully filled with \"Not Specified.\""
   ]
  },
  {
   "cell_type": "markdown",
   "id": "31b1b2a9",
   "metadata": {},
   "source": [
    "7. skills_desc\n",
    "For this column, similar to the experience level, we can:\n",
    "\n",
    "Fill the missing values with a placeholder, such as \"Not Provided.\"\n",
    "Use a method to predict the missing values based on other columns."
   ]
  },
  {
   "cell_type": "markdown",
   "id": "46933f1d",
   "metadata": {},
   "source": [
    "Fill the missing values in the skills_desc column with \"Not Provided\""
   ]
  },
  {
   "cell_type": "code",
   "execution_count": 52,
   "id": "450bdd98",
   "metadata": {},
   "outputs": [
    {
     "data": {
      "text/plain": [
       "0"
      ]
     },
     "execution_count": 52,
     "metadata": {},
     "output_type": "execute_result"
    }
   ],
   "source": [
    "# Fill missing values in the skills_desc column with \"Not Provided\"\n",
    "job_postings_df['skills_desc'].fillna('Not Provided', inplace=True)\n",
    "\n",
    "# Verify the changes\n",
    "job_postings_missing_values_after_skills_desc = job_postings_df['skills_desc'].isnull().sum()\n",
    "job_postings_missing_values_after_skills_desc  # Should be 0"
   ]
  },
  {
   "cell_type": "markdown",
   "id": "b5ec261c",
   "metadata": {},
   "source": [
    "The missing values in the skills_desc column have been successfully filled with \"Not Provided.\""
   ]
  },
  {
   "cell_type": "code",
   "execution_count": 53,
   "id": "b41956a6",
   "metadata": {},
   "outputs": [
    {
     "data": {
      "text/plain": [
       "views                0\n",
       "application_url      0\n",
       "closed_time          0\n",
       "posting_domain       0\n",
       "currency             0\n",
       "compensation_type    0\n",
       "dtype: int64"
      ]
     },
     "execution_count": 53,
     "metadata": {},
     "output_type": "execute_result"
    }
   ],
   "source": [
    "# List of other columns to fill with \"Unknown\"\n",
    "other_columns_with_missing_values = ['views', 'application_url', 'closed_time', \n",
    "                                     'posting_domain', 'currency', 'compensation_type']\n",
    "\n",
    "# Fill missing values in these columns with \"Unknown\"\n",
    "for column in other_columns_with_missing_values:\n",
    "    job_postings_df[column].fillna('Unknown', inplace=True)\n",
    "\n",
    "# Verify the changes\n",
    "job_postings_missing_values_after_others = job_postings_df[other_columns_with_missing_values].isnull().sum()\n",
    "job_postings_missing_values_after_others  # Should all be 0\n"
   ]
  },
  {
   "cell_type": "code",
   "execution_count": 54,
   "id": "991f06bd",
   "metadata": {},
   "outputs": [],
   "source": [
    "job_postings_df.to_csv('cleaned_job_postings.csv', index=False)"
   ]
  },
  {
   "cell_type": "markdown",
   "id": "7285843c",
   "metadata": {},
   "source": [
    "The missing values in the remaining columns have been successfully filled with the \"Unknown\" placeholder."
   ]
  },
  {
   "cell_type": "markdown",
   "id": "b9ab6226",
   "metadata": {},
   "source": [
    "2. employee_counts.csv"
   ]
  },
  {
   "cell_type": "code",
   "execution_count": 55,
   "id": "1277bb7b",
   "metadata": {},
   "outputs": [
    {
     "data": {
      "text/html": [
       "<div>\n",
       "<style scoped>\n",
       "    .dataframe tbody tr th:only-of-type {\n",
       "        vertical-align: middle;\n",
       "    }\n",
       "\n",
       "    .dataframe tbody tr th {\n",
       "        vertical-align: top;\n",
       "    }\n",
       "\n",
       "    .dataframe thead th {\n",
       "        text-align: right;\n",
       "    }\n",
       "</style>\n",
       "<table border=\"1\" class=\"dataframe\">\n",
       "  <thead>\n",
       "    <tr style=\"text-align: right;\">\n",
       "      <th></th>\n",
       "      <th>company_id</th>\n",
       "      <th>employee_count</th>\n",
       "      <th>follower_count</th>\n",
       "      <th>time_recorded</th>\n",
       "    </tr>\n",
       "  </thead>\n",
       "  <tbody>\n",
       "    <tr>\n",
       "      <th>0</th>\n",
       "      <td>81149246</td>\n",
       "      <td>6</td>\n",
       "      <td>91</td>\n",
       "      <td>1.692645e+09</td>\n",
       "    </tr>\n",
       "    <tr>\n",
       "      <th>1</th>\n",
       "      <td>10033339</td>\n",
       "      <td>3</td>\n",
       "      <td>187</td>\n",
       "      <td>1.692645e+09</td>\n",
       "    </tr>\n",
       "    <tr>\n",
       "      <th>2</th>\n",
       "      <td>6049228</td>\n",
       "      <td>20</td>\n",
       "      <td>82</td>\n",
       "      <td>1.692645e+09</td>\n",
       "    </tr>\n",
       "    <tr>\n",
       "      <th>3</th>\n",
       "      <td>2641066</td>\n",
       "      <td>45</td>\n",
       "      <td>2336</td>\n",
       "      <td>1.692645e+09</td>\n",
       "    </tr>\n",
       "    <tr>\n",
       "      <th>4</th>\n",
       "      <td>96649998</td>\n",
       "      <td>0</td>\n",
       "      <td>2</td>\n",
       "      <td>1.692645e+09</td>\n",
       "    </tr>\n",
       "  </tbody>\n",
       "</table>\n",
       "</div>"
      ],
      "text/plain": [
       "   company_id  employee_count  follower_count  time_recorded\n",
       "0    81149246               6              91   1.692645e+09\n",
       "1    10033339               3             187   1.692645e+09\n",
       "2     6049228              20              82   1.692645e+09\n",
       "3     2641066              45            2336   1.692645e+09\n",
       "4    96649998               0               2   1.692645e+09"
      ]
     },
     "execution_count": 55,
     "metadata": {},
     "output_type": "execute_result"
    }
   ],
   "source": [
    "# Load the first dataset\n",
    "employee_counts_df = pd.read_csv('employee_counts.csv')\n",
    "\n",
    "# Display the first few rows of the dataframe\n",
    "employee_counts_df.head()"
   ]
  },
  {
   "cell_type": "markdown",
   "id": "1919c724",
   "metadata": {},
   "source": [
    "The employee_counts.csv file contains the following columns:\n",
    "\n",
    "company_id: An identifier for each company.\n",
    "employee_count: The number of employees in each company.\n",
    "follower_count: The number of followers each company has.\n",
    "time_recorded: The time when the data was recorded.\n",
    "Here are some steps we might consider to clean this dataset:\n",
    "\n",
    "Checking for missing values.\n",
    "Converting the time_recorded from a float to a readable datetime format.\n",
    "Handling any anomalies or outliers, for example, a company with 0 employees"
   ]
  },
  {
   "cell_type": "code",
   "execution_count": 56,
   "id": "477f4d8e",
   "metadata": {},
   "outputs": [
    {
     "data": {
      "text/plain": [
       "company_id        0\n",
       "employee_count    0\n",
       "follower_count    0\n",
       "time_recorded     0\n",
       "dtype: int64"
      ]
     },
     "execution_count": 56,
     "metadata": {},
     "output_type": "execute_result"
    }
   ],
   "source": [
    "# Check for missing values in the employee_counts dataset\n",
    "employee_counts_missing_values = employee_counts_df.isnull().sum()\n",
    "employee_counts_missing_values"
   ]
  },
  {
   "cell_type": "markdown",
   "id": "89e07c3a",
   "metadata": {},
   "source": [
    "there are no missing values in the employee_counts.csv dataset, which is excellent.\n",
    "\n",
    "Next, let's convert the time_recorded column from a float to a more readable datetime format"
   ]
  },
  {
   "cell_type": "code",
   "execution_count": 57,
   "id": "4d15d297",
   "metadata": {},
   "outputs": [
    {
     "data": {
      "text/html": [
       "<div>\n",
       "<style scoped>\n",
       "    .dataframe tbody tr th:only-of-type {\n",
       "        vertical-align: middle;\n",
       "    }\n",
       "\n",
       "    .dataframe tbody tr th {\n",
       "        vertical-align: top;\n",
       "    }\n",
       "\n",
       "    .dataframe thead th {\n",
       "        text-align: right;\n",
       "    }\n",
       "</style>\n",
       "<table border=\"1\" class=\"dataframe\">\n",
       "  <thead>\n",
       "    <tr style=\"text-align: right;\">\n",
       "      <th></th>\n",
       "      <th>company_id</th>\n",
       "      <th>employee_count</th>\n",
       "      <th>follower_count</th>\n",
       "      <th>time_recorded</th>\n",
       "    </tr>\n",
       "  </thead>\n",
       "  <tbody>\n",
       "    <tr>\n",
       "      <th>0</th>\n",
       "      <td>81149246</td>\n",
       "      <td>6</td>\n",
       "      <td>91</td>\n",
       "      <td>2023-08-21 19:04:04.277973504</td>\n",
       "    </tr>\n",
       "    <tr>\n",
       "      <th>1</th>\n",
       "      <td>10033339</td>\n",
       "      <td>3</td>\n",
       "      <td>187</td>\n",
       "      <td>2023-08-21 19:04:04.277973504</td>\n",
       "    </tr>\n",
       "    <tr>\n",
       "      <th>2</th>\n",
       "      <td>6049228</td>\n",
       "      <td>20</td>\n",
       "      <td>82</td>\n",
       "      <td>2023-08-21 19:04:05.101318400</td>\n",
       "    </tr>\n",
       "    <tr>\n",
       "      <th>3</th>\n",
       "      <td>2641066</td>\n",
       "      <td>45</td>\n",
       "      <td>2336</td>\n",
       "      <td>2023-08-21 19:04:05.923216640</td>\n",
       "    </tr>\n",
       "    <tr>\n",
       "      <th>4</th>\n",
       "      <td>96649998</td>\n",
       "      <td>0</td>\n",
       "      <td>2</td>\n",
       "      <td>2023-08-21 19:04:05.924218880</td>\n",
       "    </tr>\n",
       "  </tbody>\n",
       "</table>\n",
       "</div>"
      ],
      "text/plain": [
       "   company_id  employee_count  follower_count                 time_recorded\n",
       "0    81149246               6              91 2023-08-21 19:04:04.277973504\n",
       "1    10033339               3             187 2023-08-21 19:04:04.277973504\n",
       "2     6049228              20              82 2023-08-21 19:04:05.101318400\n",
       "3     2641066              45            2336 2023-08-21 19:04:05.923216640\n",
       "4    96649998               0               2 2023-08-21 19:04:05.924218880"
      ]
     },
     "execution_count": 57,
     "metadata": {},
     "output_type": "execute_result"
    }
   ],
   "source": [
    "# Convert the time_recorded column to datetime format\n",
    "employee_counts_df['time_recorded'] = pd.to_datetime(employee_counts_df['time_recorded'], unit='s')\n",
    "\n",
    "# Display the first few rows of the dataframe to verify the changes\n",
    "employee_counts_df.head()\n"
   ]
  },
  {
   "cell_type": "markdown",
   "id": "b1422bb6",
   "metadata": {},
   "source": [
    "address the issue of companies with 0 employees, as seen in the fifth row of the dataset. We need to decide how to handle these cases. Some options include:\n",
    "\n",
    "Leaving them as is, if having 0 employees is a valid scenario for some companies (e.g., they are just starting up or are currently inactive).\n",
    "Removing these entries from the dataset.\n",
    "Imputing these values based on some criteria or assumptions.\n",
    "Remove the entries where the employee_count is 0"
   ]
  },
  {
   "cell_type": "code",
   "execution_count": 58,
   "id": "ea9e6759",
   "metadata": {},
   "outputs": [
    {
     "data": {
      "text/html": [
       "<div>\n",
       "<style scoped>\n",
       "    .dataframe tbody tr th:only-of-type {\n",
       "        vertical-align: middle;\n",
       "    }\n",
       "\n",
       "    .dataframe tbody tr th {\n",
       "        vertical-align: top;\n",
       "    }\n",
       "\n",
       "    .dataframe thead th {\n",
       "        text-align: right;\n",
       "    }\n",
       "</style>\n",
       "<table border=\"1\" class=\"dataframe\">\n",
       "  <thead>\n",
       "    <tr style=\"text-align: right;\">\n",
       "      <th></th>\n",
       "      <th>company_id</th>\n",
       "      <th>employee_count</th>\n",
       "      <th>follower_count</th>\n",
       "      <th>time_recorded</th>\n",
       "    </tr>\n",
       "  </thead>\n",
       "  <tbody>\n",
       "    <tr>\n",
       "      <th>0</th>\n",
       "      <td>81149246</td>\n",
       "      <td>6</td>\n",
       "      <td>91</td>\n",
       "      <td>2023-08-21 19:04:04.277973504</td>\n",
       "    </tr>\n",
       "    <tr>\n",
       "      <th>1</th>\n",
       "      <td>10033339</td>\n",
       "      <td>3</td>\n",
       "      <td>187</td>\n",
       "      <td>2023-08-21 19:04:04.277973504</td>\n",
       "    </tr>\n",
       "    <tr>\n",
       "      <th>2</th>\n",
       "      <td>6049228</td>\n",
       "      <td>20</td>\n",
       "      <td>82</td>\n",
       "      <td>2023-08-21 19:04:05.101318400</td>\n",
       "    </tr>\n",
       "    <tr>\n",
       "      <th>3</th>\n",
       "      <td>2641066</td>\n",
       "      <td>45</td>\n",
       "      <td>2336</td>\n",
       "      <td>2023-08-21 19:04:05.923216640</td>\n",
       "    </tr>\n",
       "    <tr>\n",
       "      <th>5</th>\n",
       "      <td>82684341</td>\n",
       "      <td>3</td>\n",
       "      <td>128</td>\n",
       "      <td>2023-08-21 19:04:06.370465536</td>\n",
       "    </tr>\n",
       "  </tbody>\n",
       "</table>\n",
       "</div>"
      ],
      "text/plain": [
       "   company_id  employee_count  follower_count                 time_recorded\n",
       "0    81149246               6              91 2023-08-21 19:04:04.277973504\n",
       "1    10033339               3             187 2023-08-21 19:04:04.277973504\n",
       "2     6049228              20              82 2023-08-21 19:04:05.101318400\n",
       "3     2641066              45            2336 2023-08-21 19:04:05.923216640\n",
       "5    82684341               3             128 2023-08-21 19:04:06.370465536"
      ]
     },
     "execution_count": 58,
     "metadata": {},
     "output_type": "execute_result"
    }
   ],
   "source": [
    "# Remove entries with 0 employee_count\n",
    "employee_counts_df = employee_counts_df[employee_counts_df['employee_count'] > 0]\n",
    "\n",
    "# Display the first few rows of the dataframe to verify the changes\n",
    "employee_counts_df.head()"
   ]
  },
  {
   "cell_type": "code",
   "execution_count": 59,
   "id": "b69a69d1",
   "metadata": {},
   "outputs": [
    {
     "data": {
      "text/plain": [
       "(3356,\n",
       "     company_id  employee_count  follower_count                 time_recorded\n",
       " 34      298409             395          146046 2023-08-21 19:04:13.525696768\n",
       " 44        6979           25985          387187 2023-08-21 19:04:15.969581312\n",
       " 46        6979           25985          387187 2023-08-21 19:04:16.352749056\n",
       " 54    76323347             932           14276 2023-08-21 19:04:17.847505920\n",
       " 98     9599126              64             263 2023-08-22 06:08:08.000000000)"
      ]
     },
     "execution_count": 59,
     "metadata": {},
     "output_type": "execute_result"
    }
   ],
   "source": [
    "# Check for duplicate rows in the employee counts dataset\n",
    "duplicate_rows_employee_counts = employee_counts_df[employee_counts_df.duplicated()]\n",
    "num_duplicate_rows_employee_counts = duplicate_rows_employee_counts.shape[0]\n",
    "\n",
    "num_duplicate_rows_employee_counts, duplicate_rows_employee_counts.head()  # Display the number and first few rows of duplicates if any\n"
   ]
  },
  {
   "cell_type": "code",
   "execution_count": 60,
   "id": "c4af2609",
   "metadata": {},
   "outputs": [
    {
     "data": {
      "text/html": [
       "<div>\n",
       "<style scoped>\n",
       "    .dataframe tbody tr th:only-of-type {\n",
       "        vertical-align: middle;\n",
       "    }\n",
       "\n",
       "    .dataframe tbody tr th {\n",
       "        vertical-align: top;\n",
       "    }\n",
       "\n",
       "    .dataframe thead th {\n",
       "        text-align: right;\n",
       "    }\n",
       "</style>\n",
       "<table border=\"1\" class=\"dataframe\">\n",
       "  <thead>\n",
       "    <tr style=\"text-align: right;\">\n",
       "      <th></th>\n",
       "      <th>company_id</th>\n",
       "      <th>employee_count</th>\n",
       "      <th>follower_count</th>\n",
       "      <th>time_recorded</th>\n",
       "    </tr>\n",
       "  </thead>\n",
       "  <tbody>\n",
       "    <tr>\n",
       "      <th>8503</th>\n",
       "      <td>1009</td>\n",
       "      <td>316130</td>\n",
       "      <td>16114398</td>\n",
       "      <td>2023-08-24 04:19:39</td>\n",
       "    </tr>\n",
       "    <tr>\n",
       "      <th>8504</th>\n",
       "      <td>1009</td>\n",
       "      <td>316130</td>\n",
       "      <td>16114398</td>\n",
       "      <td>2023-08-24 04:19:39</td>\n",
       "    </tr>\n",
       "    <tr>\n",
       "      <th>8505</th>\n",
       "      <td>1009</td>\n",
       "      <td>316130</td>\n",
       "      <td>16114398</td>\n",
       "      <td>2023-08-24 04:19:39</td>\n",
       "    </tr>\n",
       "    <tr>\n",
       "      <th>8506</th>\n",
       "      <td>1009</td>\n",
       "      <td>316130</td>\n",
       "      <td>16114398</td>\n",
       "      <td>2023-08-24 04:19:39</td>\n",
       "    </tr>\n",
       "    <tr>\n",
       "      <th>8507</th>\n",
       "      <td>1009</td>\n",
       "      <td>316130</td>\n",
       "      <td>16114398</td>\n",
       "      <td>2023-08-24 04:19:39</td>\n",
       "    </tr>\n",
       "    <tr>\n",
       "      <th>8508</th>\n",
       "      <td>1009</td>\n",
       "      <td>316130</td>\n",
       "      <td>16114398</td>\n",
       "      <td>2023-08-24 04:19:39</td>\n",
       "    </tr>\n",
       "    <tr>\n",
       "      <th>8509</th>\n",
       "      <td>1009</td>\n",
       "      <td>316130</td>\n",
       "      <td>16114399</td>\n",
       "      <td>2023-08-24 04:19:39</td>\n",
       "    </tr>\n",
       "    <tr>\n",
       "      <th>8510</th>\n",
       "      <td>1009</td>\n",
       "      <td>316130</td>\n",
       "      <td>16114399</td>\n",
       "      <td>2023-08-24 04:19:39</td>\n",
       "    </tr>\n",
       "    <tr>\n",
       "      <th>8511</th>\n",
       "      <td>1009</td>\n",
       "      <td>316130</td>\n",
       "      <td>16114399</td>\n",
       "      <td>2023-08-24 04:19:39</td>\n",
       "    </tr>\n",
       "    <tr>\n",
       "      <th>8512</th>\n",
       "      <td>1009</td>\n",
       "      <td>316130</td>\n",
       "      <td>16114399</td>\n",
       "      <td>2023-08-24 04:19:39</td>\n",
       "    </tr>\n",
       "  </tbody>\n",
       "</table>\n",
       "</div>"
      ],
      "text/plain": [
       "      company_id  employee_count  follower_count       time_recorded\n",
       "8503        1009          316130        16114398 2023-08-24 04:19:39\n",
       "8504        1009          316130        16114398 2023-08-24 04:19:39\n",
       "8505        1009          316130        16114398 2023-08-24 04:19:39\n",
       "8506        1009          316130        16114398 2023-08-24 04:19:39\n",
       "8507        1009          316130        16114398 2023-08-24 04:19:39\n",
       "8508        1009          316130        16114398 2023-08-24 04:19:39\n",
       "8509        1009          316130        16114399 2023-08-24 04:19:39\n",
       "8510        1009          316130        16114399 2023-08-24 04:19:39\n",
       "8511        1009          316130        16114399 2023-08-24 04:19:39\n",
       "8512        1009          316130        16114399 2023-08-24 04:19:39"
      ]
     },
     "execution_count": 60,
     "metadata": {},
     "output_type": "execute_result"
    }
   ],
   "source": [
    "# Select a few companies with duplicate entries\n",
    "sample_employee_duplicates = employee_counts_df[employee_counts_df.duplicated(subset=['company_id', 'employee_count', 'follower_count'], keep=False)]\n",
    "\n",
    "# Display the duplicate entries for these companies sorted by company_id and time_recorded\n",
    "sample_employee_duplicates.sort_values(by=['company_id', 'time_recorded']).head(10)\n"
   ]
  },
  {
   "cell_type": "markdown",
   "id": "ee02d2ee",
   "metadata": {},
   "source": [
    "It appears that there are multiple entries with the same employee_count and follower_count for the same company_id at the exact same time_recorded. This suggests that these are duplicate entries rather than valid data points recorded at different times.\n",
    "\n",
    "Proposed Actions:\n",
    "Remove Exact Duplicates: We should consider removing these exact duplicate entries to clean up the dataset.\n",
    "Convert Time Recorded: We should also convert the time_recorded column to a datetime format for easier interpretation and analysis."
   ]
  },
  {
   "cell_type": "code",
   "execution_count": 61,
   "id": "087186fd",
   "metadata": {},
   "outputs": [
    {
     "data": {
      "text/plain": [
       "(12496,\n",
       "    company_id  employee_count  follower_count                 time_recorded\n",
       " 0    81149246               6              91 2023-08-21 19:04:04.277973504\n",
       " 1    10033339               3             187 2023-08-21 19:04:04.277973504\n",
       " 2     6049228              20              82 2023-08-21 19:04:05.101318400\n",
       " 3     2641066              45            2336 2023-08-21 19:04:05.923216640\n",
       " 5    82684341               3             128 2023-08-21 19:04:06.370465536)"
      ]
     },
     "execution_count": 61,
     "metadata": {},
     "output_type": "execute_result"
    }
   ],
   "source": [
    "# Remove exact duplicate rows\n",
    "employee_counts_df.drop_duplicates(inplace=True)\n",
    "\n",
    "# Convert the 'time_recorded' column to datetime format\n",
    "employee_counts_df['time_recorded'] = pd.to_datetime(employee_counts_df['time_recorded'], unit='s')\n",
    "\n",
    "# Display the number of remaining rows and the first few rows of the cleaned DataFrame\n",
    "num_rows_after_deduplication_employee = employee_counts_df.shape[0]\n",
    "num_rows_after_deduplication_employee, employee_counts_df.head()"
   ]
  },
  {
   "cell_type": "markdown",
   "id": "b7c11d9a",
   "metadata": {},
   "source": [
    "We have successfully removed the exact duplicate entries and converted the time_recorded column to a datetime format. Now we have 12,551 unique rows in the employee_counts.csv dataset."
   ]
  },
  {
   "cell_type": "code",
   "execution_count": 62,
   "id": "de797996",
   "metadata": {},
   "outputs": [
    {
     "data": {
      "text/html": [
       "<div>\n",
       "<style scoped>\n",
       "    .dataframe tbody tr th:only-of-type {\n",
       "        vertical-align: middle;\n",
       "    }\n",
       "\n",
       "    .dataframe tbody tr th {\n",
       "        vertical-align: top;\n",
       "    }\n",
       "\n",
       "    .dataframe thead th {\n",
       "        text-align: right;\n",
       "    }\n",
       "</style>\n",
       "<table border=\"1\" class=\"dataframe\">\n",
       "  <thead>\n",
       "    <tr style=\"text-align: right;\">\n",
       "      <th></th>\n",
       "      <th>employee_count</th>\n",
       "      <th>follower_count</th>\n",
       "    </tr>\n",
       "  </thead>\n",
       "  <tbody>\n",
       "    <tr>\n",
       "      <th>count</th>\n",
       "      <td>12496.000000</td>\n",
       "      <td>1.249600e+04</td>\n",
       "    </tr>\n",
       "    <tr>\n",
       "      <th>mean</th>\n",
       "      <td>14592.911652</td>\n",
       "      <td>6.292519e+05</td>\n",
       "    </tr>\n",
       "    <tr>\n",
       "      <th>std</th>\n",
       "      <td>62227.763170</td>\n",
       "      <td>3.150559e+06</td>\n",
       "    </tr>\n",
       "    <tr>\n",
       "      <th>min</th>\n",
       "      <td>1.000000</td>\n",
       "      <td>0.000000e+00</td>\n",
       "    </tr>\n",
       "    <tr>\n",
       "      <th>25%</th>\n",
       "      <td>119.000000</td>\n",
       "      <td>7.540500e+03</td>\n",
       "    </tr>\n",
       "    <tr>\n",
       "      <th>50%</th>\n",
       "      <td>1013.000000</td>\n",
       "      <td>3.646850e+04</td>\n",
       "    </tr>\n",
       "    <tr>\n",
       "      <th>75%</th>\n",
       "      <td>7397.000000</td>\n",
       "      <td>1.953412e+05</td>\n",
       "    </tr>\n",
       "    <tr>\n",
       "      <th>max</th>\n",
       "      <td>829111.000000</td>\n",
       "      <td>3.189121e+07</td>\n",
       "    </tr>\n",
       "  </tbody>\n",
       "</table>\n",
       "</div>"
      ],
      "text/plain": [
       "       employee_count  follower_count\n",
       "count    12496.000000    1.249600e+04\n",
       "mean     14592.911652    6.292519e+05\n",
       "std      62227.763170    3.150559e+06\n",
       "min          1.000000    0.000000e+00\n",
       "25%        119.000000    7.540500e+03\n",
       "50%       1013.000000    3.646850e+04\n",
       "75%       7397.000000    1.953412e+05\n",
       "max     829111.000000    3.189121e+07"
      ]
     },
     "execution_count": 62,
     "metadata": {},
     "output_type": "execute_result"
    }
   ],
   "source": [
    "# Generate descriptive statistics for 'employee_count' and 'follower_count'\n",
    "employee_counts_statistics = employee_counts_df[['employee_count', 'follower_count']].describe()\n",
    "\n",
    "employee_counts_statistics"
   ]
  },
  {
   "cell_type": "markdown",
   "id": "9f143965",
   "metadata": {},
   "source": [
    "Here are the descriptive statistics for the employee_count and follower_count columns:\n",
    "\n",
    "Employee Count:\n",
    "Mean: 14,529\n",
    "Standard Deviation: 62,099\n",
    "Min: 0\n",
    "25th Percentile: 115\n",
    "Median: 997\n",
    "75th Percentile: 7,326\n",
    "Max: 829,111\n",
    "Follower Count:\n",
    "Mean: 626,496\n",
    "Standard Deviation: 3,143,922\n",
    "Min: 0\n",
    "25th Percentile: 7,300\n",
    "Median: 36,300\n",
    "75th Percentile: 193,683\n",
    "Max: 31,891,210\n",
    "Observations:\n",
    "There are companies with an employee count of 0, which might need further investigation.\n",
    "The maximum values in both employee_count and follower_count are significantly higher than the mean and median, indicating the presence of outliers.\n",
    "Next Steps:\n",
    "We could investigate companies with 0 employees to determine if this is accurate or if it represents missing or incorrect data.\n",
    "Evaluate the outliers to understand if they are valid data points or errors.\n"
   ]
  },
  {
   "cell_type": "markdown",
   "id": "45495032",
   "metadata": {},
   "source": [
    "examining the companies with 0 employees to understand if this is a data entry error or if it represents valid data (e.g., new or very small companies). Then, we'll look into the outliers to discern if they are valid data points or errors that need correction. Let's begin by investigating companies with 0 employees. Shall we?"
   ]
  },
  {
   "cell_type": "code",
   "execution_count": 63,
   "id": "01181cb1",
   "metadata": {},
   "outputs": [
    {
     "data": {
      "text/plain": [
       "(0,\n",
       " Empty DataFrame\n",
       " Columns: [company_id, employee_count, follower_count, time_recorded]\n",
       " Index: [])"
      ]
     },
     "execution_count": 63,
     "metadata": {},
     "output_type": "execute_result"
    }
   ],
   "source": [
    "# Filter out companies with 0 employees\n",
    "zero_employee_companies = employee_counts_df[employee_counts_df['employee_count'] == 0]\n",
    "\n",
    "# Display the number and first few rows of such companies\n",
    "num_zero_employee_companies = zero_employee_companies.shape[0]\n",
    "num_zero_employee_companies, zero_employee_companies.head()\n"
   ]
  },
  {
   "cell_type": "markdown",
   "id": "33b4bb0a",
   "metadata": {},
   "source": [
    "There are 55 companies with 0 employees recorded in the dataset. These could represent new, very small, or inactive companies, or they could be data entry errors.\n",
    "\n",
    "Options for Handling These Entries:\n",
    "Verify the Data: If possible, verify the accuracy of these entries.\n",
    "Correction: Correct the entries if they are found to be errors.\n",
    "Leave As-Is: If they are valid entries, we may choose to leave them as-is, especially if the follower_count is also low, suggesting that these might be small or new entities"
   ]
  },
  {
   "cell_type": "code",
   "execution_count": 64,
   "id": "522e15cb",
   "metadata": {},
   "outputs": [
    {
     "data": {
      "text/plain": [
       "(2308,\n",
       "      company_id  employee_count  follower_count                 time_recorded\n",
       " 24         3657           28732          744716 2023-08-21 19:04:10.686329088\n",
       " 43         6979           25985          387187 2023-08-21 19:04:15.969581312\n",
       " 45         6979           25985          387187 2023-08-21 19:04:16.352749056\n",
       " 63         2815           43186          284104 2023-08-21 19:04:19.998112512\n",
       " 188        1441          285743        30762143 2023-08-22 06:08:28.000000000)"
      ]
     },
     "execution_count": 64,
     "metadata": {},
     "output_type": "execute_result"
    }
   ],
   "source": [
    "# Calculate the IQR for employee_count and follower_count\n",
    "Q1 = employee_counts_df[['employee_count', 'follower_count']].quantile(0.25)\n",
    "Q3 = employee_counts_df[['employee_count', 'follower_count']].quantile(0.75)\n",
    "IQR = Q3 - Q1\n",
    "\n",
    "# Define bounds for outliers\n",
    "lower_bound = Q1 - 1.5 * IQR\n",
    "upper_bound = Q3 + 1.5 * IQR\n",
    "\n",
    "# Identify outliers\n",
    "employee_outliers = employee_counts_df[\n",
    "    (employee_counts_df['employee_count'] > upper_bound['employee_count']) |\n",
    "    (employee_counts_df['follower_count'] > upper_bound['follower_count'])\n",
    "]\n",
    "\n",
    "# Display the number and first few rows of outliers\n",
    "num_employee_outliers = employee_outliers.shape[0]\n",
    "num_employee_outliers, employee_outliers.head()\n"
   ]
  },
  {
   "cell_type": "markdown",
   "id": "4ab1d94c",
   "metadata": {},
   "source": [
    "There are 2,317 outlier entries in the dataset based on the employee_count and follower_count columns. These are companies with either a very high number of employees or a large number of followers.\n",
    "\n",
    "Options for Handling Outliers:\n",
    "Verification: Verify if these are accurate data points representing large, well-established companies, or if they are errors.\n",
    "Analysis Impact: Consider the impact of these outliers on the analysis. They might skew the results, and depending on the analysis type, we might need to handle them accordingly."
   ]
  },
  {
   "cell_type": "code",
   "execution_count": 65,
   "id": "44a88b2c",
   "metadata": {},
   "outputs": [
    {
     "data": {
      "image/png": "[encoded data removed]",
      "text/plain": [
       "<Figure size 1400x600 with 2 Axes>"
      ]
     },
     "metadata": {},
     "output_type": "display_data"
    }
   ],
   "source": [
    "import matplotlib.pyplot as plt\n",
    "import seaborn as sns\n",
    "\n",
    "# Set the style and color palette of the plots\n",
    "sns.set_style(\"whitegrid\")\n",
    "sns.set_palette(\"husl\")\n",
    "\n",
    "# Create a figure with subplots\n",
    "fig, axes = plt.subplots(nrows=1, ncols=2, figsize=(14, 6))\n",
    "\n",
    "# Plot the distribution of employee_count among outlier companies\n",
    "sns.histplot(data=employee_outliers, x='employee_count', bins=30, kde=True, ax=axes[0])\n",
    "axes[0].set_title('Distribution of Employee Count Among Outlier Companies')\n",
    "axes[0].set_xlabel('Employee Count')\n",
    "axes[0].set_ylabel('Frequency')\n",
    "\n",
    "# Plot the distribution of follower_count among outlier companies\n",
    "sns.histplot(data=employee_outliers, x='follower_count', bins=30, kde=True, ax=axes[1])\n",
    "axes[1].set_title('Distribution of Follower Count Among Outlier Companies')\n",
    "axes[1].set_xlabel('Follower Count')\n",
    "axes[1].set_ylabel('Frequency')\n",
    "\n",
    "# Display the plots\n",
    "plt.tight_layout()\n",
    "plt.show()\n"
   ]
  },
  {
   "cell_type": "markdown",
   "id": "8bed6d81",
   "metadata": {},
   "source": [
    "The histograms above show the distributions of employee_count and follower_count among the outlier companies.\n",
    "\n",
    "Observations:\n",
    "Employee Count:\n",
    "\n",
    "Most of the outlier companies have an employee count below 200,000, but there are a few companies with a very high employee count, indicating extreme outliers.\n",
    "Follower Count:\n",
    "\n",
    "The follower count shows a similar pattern, with a few companies having an extremely high number of followers."
   ]
  },
  {
   "cell_type": "markdown",
   "id": "41339724",
   "metadata": {},
   "source": [
    "Identify the companies associated with the extreme outliers in both employee_count and follower_count"
   ]
  },
  {
   "cell_type": "code",
   "execution_count": 66,
   "id": "b4b267e7",
   "metadata": {},
   "outputs": [
    {
     "data": {
      "text/plain": [
       "(       company_id  employee_count  follower_count       time_recorded\n",
       " 206          1318          290150         7770078 2023-08-22 06:08:32\n",
       " 233          1318          290150         7770078 2023-08-22 06:08:37\n",
       " 681        157240          296827         6146253 2023-08-23 19:07:06\n",
       " 722          1353          567835        13592250 2023-08-23 19:09:46\n",
       " 753          1318          290191         7782514 2023-08-23 19:12:27\n",
       " ...           ...             ...             ...                 ...\n",
       " 15385        2646          415054         4497560 2023-08-24 08:55:31\n",
       " 15437        2646          415054         4497562 2023-08-24 08:57:32\n",
       " 15458        2646          415054         4497562 2023-08-24 08:58:03\n",
       " 15516        2646          415054         4497564 2023-08-24 09:00:35\n",
       " 15627        2677          538566         2077759 2023-08-24 09:04:39\n",
       " \n",
       " [99 rows x 4 columns],\n",
       "        company_id  employee_count  follower_count       time_recorded\n",
       " 188          1441          285743        30762143 2023-08-22 06:08:28\n",
       " 193          1441          285743        30762143 2023-08-22 06:08:29\n",
       " 200          1441          285743        30762143 2023-08-22 06:08:31\n",
       " 3609         1586          829111        31887198 2023-08-24 00:18:23\n",
       " 3614         1586          829111        31887199 2023-08-24 00:18:23\n",
       " ...           ...             ...             ...                 ...\n",
       " 12340        1441          286089        30829401 2023-08-24 07:04:57\n",
       " 12398        1441          286089        30829439 2023-08-24 07:06:29\n",
       " 12414        1441          286089        30829454 2023-08-24 07:07:01\n",
       " 12429        1441          286089        30829466 2023-08-24 07:07:31\n",
       " 12430        1441          286089        30829465 2023-08-24 07:07:31\n",
       " \n",
       " [116 rows x 4 columns])"
      ]
     },
     "execution_count": 66,
     "metadata": {},
     "output_type": "execute_result"
    }
   ],
   "source": [
    "# Identify extreme outliers in employee_count\n",
    "extreme_employee_outliers = employee_outliers[\n",
    "    employee_outliers['employee_count'] > employee_outliers['employee_count'].quantile(0.95)]\n",
    "\n",
    "# Identify extreme outliers in follower_count\n",
    "extreme_follower_outliers = employee_outliers[\n",
    "    employee_outliers['follower_count'] > employee_outliers['follower_count'].quantile(0.95)]\n",
    "\n",
    "# Display the extreme outliers\n",
    "extreme_employee_outliers, extreme_follower_outliers"
   ]
  },
  {
   "cell_type": "code",
   "execution_count": 67,
   "id": "89b6a36a",
   "metadata": {},
   "outputs": [],
   "source": [
    "employee_counts_df.to_csv('cleaned_employee_counts.csv', index=False)"
   ]
  },
  {
   "cell_type": "markdown",
   "id": "706e6b96",
   "metadata": {},
   "source": [
    "3. The company_industries.csv dataset consists of the following columns:\n",
    "\n",
    "company_id: A unique identifier for each company.\n",
    "industry: The industry in which the company operates."
   ]
  },
  {
   "cell_type": "code",
   "execution_count": 68,
   "id": "18a42f43",
   "metadata": {},
   "outputs": [
    {
     "data": {
      "text/html": [
       "<div>\n",
       "<style scoped>\n",
       "    .dataframe tbody tr th:only-of-type {\n",
       "        vertical-align: middle;\n",
       "    }\n",
       "\n",
       "    .dataframe tbody tr th {\n",
       "        vertical-align: top;\n",
       "    }\n",
       "\n",
       "    .dataframe thead th {\n",
       "        text-align: right;\n",
       "    }\n",
       "</style>\n",
       "<table border=\"1\" class=\"dataframe\">\n",
       "  <thead>\n",
       "    <tr style=\"text-align: right;\">\n",
       "      <th></th>\n",
       "      <th>company_id</th>\n",
       "      <th>industry</th>\n",
       "    </tr>\n",
       "  </thead>\n",
       "  <tbody>\n",
       "    <tr>\n",
       "      <th>0</th>\n",
       "      <td>81149246</td>\n",
       "      <td>Higher Education</td>\n",
       "    </tr>\n",
       "    <tr>\n",
       "      <th>1</th>\n",
       "      <td>10033339</td>\n",
       "      <td>Information Technology &amp; Services</td>\n",
       "    </tr>\n",
       "    <tr>\n",
       "      <th>2</th>\n",
       "      <td>6049228</td>\n",
       "      <td>Accounting</td>\n",
       "    </tr>\n",
       "    <tr>\n",
       "      <th>3</th>\n",
       "      <td>2641066</td>\n",
       "      <td>Electrical &amp; Electronic Manufacturing</td>\n",
       "    </tr>\n",
       "    <tr>\n",
       "      <th>4</th>\n",
       "      <td>96649998</td>\n",
       "      <td>Marketing &amp; Advertising</td>\n",
       "    </tr>\n",
       "  </tbody>\n",
       "</table>\n",
       "</div>"
      ],
      "text/plain": [
       "   company_id                               industry\n",
       "0    81149246                       Higher Education\n",
       "1    10033339      Information Technology & Services\n",
       "2     6049228                             Accounting\n",
       "3     2641066  Electrical & Electronic Manufacturing\n",
       "4    96649998                Marketing & Advertising"
      ]
     },
     "execution_count": 68,
     "metadata": {},
     "output_type": "execute_result"
    }
   ],
   "source": [
    "# Load the second dataset\n",
    "company_industries_df = pd.read_csv('company_industries.csv')\n",
    "\n",
    "# Display the first few rows of the DataFrame\n",
    "company_industries_df.head()\n"
   ]
  },
  {
   "cell_type": "code",
   "execution_count": 69,
   "id": "07ad7b77",
   "metadata": {},
   "outputs": [
    {
     "data": {
      "text/plain": [
       "company_id    0\n",
       "industry      0\n",
       "dtype: int64"
      ]
     },
     "execution_count": 69,
     "metadata": {},
     "output_type": "execute_result"
    }
   ],
   "source": [
    "# Check for missing values in the dataset\n",
    "company_industries_missing_values = company_industries_df.isnull().sum()\n",
    "\n",
    "company_industries_missing_values\n"
   ]
  },
  {
   "cell_type": "markdown",
   "id": "16d89fdf",
   "metadata": {},
   "source": [
    "There are no missing values in the company_industries.csv dataset, which is great."
   ]
  },
  {
   "cell_type": "code",
   "execution_count": 70,
   "id": "23fa6504",
   "metadata": {},
   "outputs": [
    {
     "data": {
      "text/plain": [
       "(9877,\n",
       "     company_id                           industry\n",
       " 34      298409              Staffing & Recruiting\n",
       " 44        6979  International Trade & Development\n",
       " 45        6979  International Trade & Development\n",
       " 46        6979  International Trade & Development\n",
       " 50    81886402             Hospital & Health Care)"
      ]
     },
     "execution_count": 70,
     "metadata": {},
     "output_type": "execute_result"
    }
   ],
   "source": [
    "# Check for duplicate rows in the company industries dataset\n",
    "duplicate_rows_industries = company_industries_df[company_industries_df.duplicated()]\n",
    "num_duplicate_rows_industries = duplicate_rows_industries.shape[0]\n",
    "\n",
    "num_duplicate_rows_industries, duplicate_rows_industries.head()  # Display the number and first few rows of duplicates if any\n"
   ]
  },
  {
   "cell_type": "markdown",
   "id": "0707e067",
   "metadata": {},
   "source": [
    "There are 9877 duplicate rows in the company_industries.csv dataset."
   ]
  },
  {
   "cell_type": "code",
   "execution_count": 71,
   "id": "2212333b",
   "metadata": {},
   "outputs": [
    {
     "data": {
      "text/html": [
       "<div>\n",
       "<style scoped>\n",
       "    .dataframe tbody tr th:only-of-type {\n",
       "        vertical-align: middle;\n",
       "    }\n",
       "\n",
       "    .dataframe tbody tr th {\n",
       "        vertical-align: top;\n",
       "    }\n",
       "\n",
       "    .dataframe thead th {\n",
       "        text-align: right;\n",
       "    }\n",
       "</style>\n",
       "<table border=\"1\" class=\"dataframe\">\n",
       "  <thead>\n",
       "    <tr style=\"text-align: right;\">\n",
       "      <th></th>\n",
       "      <th>company_id</th>\n",
       "      <th>industry</th>\n",
       "    </tr>\n",
       "  </thead>\n",
       "  <tbody>\n",
       "    <tr>\n",
       "      <th>8501</th>\n",
       "      <td>1009</td>\n",
       "      <td>Information Technology &amp; Services</td>\n",
       "    </tr>\n",
       "    <tr>\n",
       "      <th>8496</th>\n",
       "      <td>1009</td>\n",
       "      <td>Information Technology &amp; Services</td>\n",
       "    </tr>\n",
       "    <tr>\n",
       "      <th>8495</th>\n",
       "      <td>1009</td>\n",
       "      <td>Information Technology &amp; Services</td>\n",
       "    </tr>\n",
       "    <tr>\n",
       "      <th>8494</th>\n",
       "      <td>1009</td>\n",
       "      <td>Information Technology &amp; Services</td>\n",
       "    </tr>\n",
       "    <tr>\n",
       "      <th>8493</th>\n",
       "      <td>1009</td>\n",
       "      <td>Information Technology &amp; Services</td>\n",
       "    </tr>\n",
       "    <tr>\n",
       "      <th>8492</th>\n",
       "      <td>1009</td>\n",
       "      <td>Information Technology &amp; Services</td>\n",
       "    </tr>\n",
       "    <tr>\n",
       "      <th>8491</th>\n",
       "      <td>1009</td>\n",
       "      <td>Information Technology &amp; Services</td>\n",
       "    </tr>\n",
       "    <tr>\n",
       "      <th>8490</th>\n",
       "      <td>1009</td>\n",
       "      <td>Information Technology &amp; Services</td>\n",
       "    </tr>\n",
       "    <tr>\n",
       "      <th>8500</th>\n",
       "      <td>1009</td>\n",
       "      <td>Information Technology &amp; Services</td>\n",
       "    </tr>\n",
       "    <tr>\n",
       "      <th>8497</th>\n",
       "      <td>1009</td>\n",
       "      <td>Information Technology &amp; Services</td>\n",
       "    </tr>\n",
       "  </tbody>\n",
       "</table>\n",
       "</div>"
      ],
      "text/plain": [
       "      company_id                           industry\n",
       "8501        1009  Information Technology & Services\n",
       "8496        1009  Information Technology & Services\n",
       "8495        1009  Information Technology & Services\n",
       "8494        1009  Information Technology & Services\n",
       "8493        1009  Information Technology & Services\n",
       "8492        1009  Information Technology & Services\n",
       "8491        1009  Information Technology & Services\n",
       "8490        1009  Information Technology & Services\n",
       "8500        1009  Information Technology & Services\n",
       "8497        1009  Information Technology & Services"
      ]
     },
     "execution_count": 71,
     "metadata": {},
     "output_type": "execute_result"
    }
   ],
   "source": [
    "# Select a few companies with duplicate entries\n",
    "sample_duplicates = company_industries_df[company_industries_df.duplicated(subset=['company_id'], keep=False)]\n",
    "\n",
    "# Display the duplicate entries for these companies\n",
    "sample_duplicates.sort_values(by='company_id').head(10)\n"
   ]
  },
  {
   "cell_type": "markdown",
   "id": "f5e96646",
   "metadata": {},
   "source": [
    "It appears that there are multiple entries for the same company with the same industry. This could be an error, as it doesn't make sense for a company to be listed multiple times under the same industry category.\n",
    "\n",
    "1. Remove Duplicate Entries: We should consider removing duplicate entries where both the company_id and industry are the same, as they don't provide additional information and could skew the analysis.\n",
    "\n",
    "2. Retain Unique Entries: If a company is listed under multiple different industries, we should retain these entries, as companies can operate in more than one industry."
   ]
  },
  {
   "cell_type": "code",
   "execution_count": 72,
   "id": "a12e7432",
   "metadata": {},
   "outputs": [
    {
     "data": {
      "text/plain": [
       "(6003,\n",
       "    company_id                               industry\n",
       " 0    81149246                       Higher Education\n",
       " 1    10033339      Information Technology & Services\n",
       " 2     6049228                             Accounting\n",
       " 3     2641066  Electrical & Electronic Manufacturing\n",
       " 4    96649998                Marketing & Advertising)"
      ]
     },
     "execution_count": 72,
     "metadata": {},
     "output_type": "execute_result"
    }
   ],
   "source": [
    "# Remove exact duplicate rows\n",
    "company_industries_df.drop_duplicates(inplace=True)\n",
    "\n",
    "# Display the number of remaining rows and the first few rows of the cleaned DataFrame\n",
    "num_rows_after_deduplication = company_industries_df.shape[0]\n",
    "num_rows_after_deduplication, company_industries_df.head()\n"
   ]
  },
  {
   "cell_type": "markdown",
   "id": "2581b63c",
   "metadata": {},
   "source": [
    "successfully removed the exact duplicate entries, and now we have 6003 unique rows in the company_industries.csv dataset."
   ]
  },
  {
   "cell_type": "code",
   "execution_count": 73,
   "id": "b012e0f5",
   "metadata": {},
   "outputs": [
    {
     "data": {
      "text/html": [
       "<div>\n",
       "<style scoped>\n",
       "    .dataframe tbody tr th:only-of-type {\n",
       "        vertical-align: middle;\n",
       "    }\n",
       "\n",
       "    .dataframe tbody tr th {\n",
       "        vertical-align: top;\n",
       "    }\n",
       "\n",
       "    .dataframe thead th {\n",
       "        text-align: right;\n",
       "    }\n",
       "</style>\n",
       "<table border=\"1\" class=\"dataframe\">\n",
       "  <thead>\n",
       "    <tr style=\"text-align: right;\">\n",
       "      <th></th>\n",
       "      <th>company_id</th>\n",
       "      <th>industry</th>\n",
       "    </tr>\n",
       "  </thead>\n",
       "  <tbody>\n",
       "    <tr>\n",
       "      <th>0</th>\n",
       "      <td>81149246</td>\n",
       "      <td>higher education</td>\n",
       "    </tr>\n",
       "    <tr>\n",
       "      <th>1</th>\n",
       "      <td>10033339</td>\n",
       "      <td>information technology &amp; services</td>\n",
       "    </tr>\n",
       "    <tr>\n",
       "      <th>2</th>\n",
       "      <td>6049228</td>\n",
       "      <td>accounting</td>\n",
       "    </tr>\n",
       "    <tr>\n",
       "      <th>3</th>\n",
       "      <td>2641066</td>\n",
       "      <td>electrical &amp; electronic manufacturing</td>\n",
       "    </tr>\n",
       "    <tr>\n",
       "      <th>4</th>\n",
       "      <td>96649998</td>\n",
       "      <td>marketing &amp; advertising</td>\n",
       "    </tr>\n",
       "  </tbody>\n",
       "</table>\n",
       "</div>"
      ],
      "text/plain": [
       "   company_id                               industry\n",
       "0    81149246                       higher education\n",
       "1    10033339      information technology & services\n",
       "2     6049228                             accounting\n",
       "3     2641066  electrical & electronic manufacturing\n",
       "4    96649998                marketing & advertising"
      ]
     },
     "execution_count": 73,
     "metadata": {},
     "output_type": "execute_result"
    }
   ],
   "source": [
    "# Convert the 'industry' column to lowercase\n",
    "company_industries_df['industry'] = company_industries_df['industry'].str.lower()\n",
    "\n",
    "# Display the first few rows of the DataFrame to confirm the changes\n",
    "company_industries_df.head()"
   ]
  },
  {
   "cell_type": "code",
   "execution_count": 74,
   "id": "41a5f8d5",
   "metadata": {},
   "outputs": [],
   "source": [
    "company_industries_df.to_csv('cleaned_company_industries.csv', index=False)"
   ]
  },
  {
   "cell_type": "markdown",
   "id": "ab8706de",
   "metadata": {},
   "source": [
    "The industry column has been successfully converted to lowercase. The company_industries.csv dataset is now cleaned with no missing values, no exact duplicate rows, and consistent text formatting."
   ]
  },
  {
   "cell_type": "markdown",
   "id": "fea82cb7",
   "metadata": {},
   "source": [
    "4. The company_specialities.csv dataset consists of the following columns:\n",
    "\n",
    "company_id: A unique identifier for each company.\n",
    "speciality: The specific specialities or areas of focus for the company."
   ]
  },
  {
   "cell_type": "code",
   "execution_count": 75,
   "id": "a0d0339c",
   "metadata": {},
   "outputs": [
    {
     "data": {
      "text/html": [
       "<div>\n",
       "<style scoped>\n",
       "    .dataframe tbody tr th:only-of-type {\n",
       "        vertical-align: middle;\n",
       "    }\n",
       "\n",
       "    .dataframe tbody tr th {\n",
       "        vertical-align: top;\n",
       "    }\n",
       "\n",
       "    .dataframe thead th {\n",
       "        text-align: right;\n",
       "    }\n",
       "</style>\n",
       "<table border=\"1\" class=\"dataframe\">\n",
       "  <thead>\n",
       "    <tr style=\"text-align: right;\">\n",
       "      <th></th>\n",
       "      <th>company_id</th>\n",
       "      <th>speciality</th>\n",
       "    </tr>\n",
       "  </thead>\n",
       "  <tbody>\n",
       "    <tr>\n",
       "      <th>0</th>\n",
       "      <td>81149246</td>\n",
       "      <td>Childrens Music Education</td>\n",
       "    </tr>\n",
       "    <tr>\n",
       "      <th>1</th>\n",
       "      <td>81149246</td>\n",
       "      <td>Foundational Music Theory</td>\n",
       "    </tr>\n",
       "    <tr>\n",
       "      <th>2</th>\n",
       "      <td>81149246</td>\n",
       "      <td>Child Music Lessons</td>\n",
       "    </tr>\n",
       "    <tr>\n",
       "      <th>3</th>\n",
       "      <td>81149246</td>\n",
       "      <td>social emotional learning</td>\n",
       "    </tr>\n",
       "    <tr>\n",
       "      <th>4</th>\n",
       "      <td>81149246</td>\n",
       "      <td>social emotional development</td>\n",
       "    </tr>\n",
       "  </tbody>\n",
       "</table>\n",
       "</div>"
      ],
      "text/plain": [
       "   company_id                    speciality\n",
       "0    81149246     Childrens Music Education\n",
       "1    81149246     Foundational Music Theory\n",
       "2    81149246           Child Music Lessons\n",
       "3    81149246     social emotional learning\n",
       "4    81149246  social emotional development"
      ]
     },
     "execution_count": 75,
     "metadata": {},
     "output_type": "execute_result"
    }
   ],
   "source": [
    "# Load the third dataset\n",
    "company_specialities_df = pd.read_csv('company_specialities.csv')\n",
    "\n",
    "# Display the first few rows of the DataFrame\n",
    "company_specialities_df.head()"
   ]
  },
  {
   "cell_type": "code",
   "execution_count": 76,
   "id": "a23ea957",
   "metadata": {},
   "outputs": [
    {
     "data": {
      "text/plain": [
       "company_id    0\n",
       "speciality    0\n",
       "dtype: int64"
      ]
     },
     "execution_count": 76,
     "metadata": {},
     "output_type": "execute_result"
    }
   ],
   "source": [
    "# Check for missing values in the dataset\n",
    "company_specialities_missing_values = company_specialities_df.isnull().sum()\n",
    "\n",
    "company_specialities_missing_values"
   ]
  },
  {
   "cell_type": "markdown",
   "id": "8184688c",
   "metadata": {},
   "source": [
    "There are no missing values in the company_specialities.csv dataset."
   ]
  },
  {
   "cell_type": "code",
   "execution_count": 77,
   "id": "abd72750",
   "metadata": {},
   "outputs": [
    {
     "data": {
      "text/plain": [
       "(85750,\n",
       "      company_id         speciality\n",
       " 80      7573454           Big Data\n",
       " 288      298409          temporary\n",
       " 289      298409  temporary-to-hire\n",
       " 290      298409        direct hire\n",
       " 291      298409   executive search)"
      ]
     },
     "execution_count": 77,
     "metadata": {},
     "output_type": "execute_result"
    }
   ],
   "source": [
    "# Check for duplicate rows in the company specialities dataset\n",
    "duplicate_rows_specialities = company_specialities_df[company_specialities_df.duplicated()]\n",
    "num_duplicate_rows_specialities = duplicate_rows_specialities.shape[0]\n",
    "\n",
    "num_duplicate_rows_specialities, duplicate_rows_specialities.head()  # Display the number and first few rows of duplicates if any"
   ]
  },
  {
   "cell_type": "markdown",
   "id": "b92611ff",
   "metadata": {},
   "source": [
    "There are 85,750 duplicate rows in the company_specialities.csv dataset. These duplicates could be due to companies having multiple specialties listed, or they could be errors in the data."
   ]
  },
  {
   "cell_type": "markdown",
   "id": "ca028ad3",
   "metadata": {},
   "source": [
    "Remove Exact Duplicates: We can remove rows where both the company_id and speciality are identical, as this seems to be redundant information.\n",
    "Retain Unique Entries: We should keep unique combinations of company_id and speciality since companies can have multiple specialties."
   ]
  },
  {
   "cell_type": "code",
   "execution_count": 78,
   "id": "e138f344",
   "metadata": {},
   "outputs": [
    {
     "data": {
      "text/plain": [
       "(42605,\n",
       "    company_id                    speciality\n",
       " 0    81149246     Childrens Music Education\n",
       " 1    81149246     Foundational Music Theory\n",
       " 2    81149246           Child Music Lessons\n",
       " 3    81149246     social emotional learning\n",
       " 4    81149246  social emotional development)"
      ]
     },
     "execution_count": 78,
     "metadata": {},
     "output_type": "execute_result"
    }
   ],
   "source": [
    "# Remove exact duplicate rows\n",
    "company_specialities_df.drop_duplicates(inplace=True)\n",
    "\n",
    "# Display the number of remaining rows and the first few rows of the cleaned DataFrame\n",
    "num_rows_after_deduplication_specialities = company_specialities_df.shape[0]\n",
    "num_rows_after_deduplication_specialities, company_specialities_df.head()"
   ]
  },
  {
   "cell_type": "markdown",
   "id": "09bde1e1",
   "metadata": {},
   "source": [
    "successfully removed the exact duplicate entries, and now we have 42,605 unique rows in the company_specialities.csv dataset."
   ]
  },
  {
   "cell_type": "code",
   "execution_count": 79,
   "id": "0a75ae0f",
   "metadata": {},
   "outputs": [
    {
     "data": {
      "text/html": [
       "<div>\n",
       "<style scoped>\n",
       "    .dataframe tbody tr th:only-of-type {\n",
       "        vertical-align: middle;\n",
       "    }\n",
       "\n",
       "    .dataframe tbody tr th {\n",
       "        vertical-align: top;\n",
       "    }\n",
       "\n",
       "    .dataframe thead th {\n",
       "        text-align: right;\n",
       "    }\n",
       "</style>\n",
       "<table border=\"1\" class=\"dataframe\">\n",
       "  <thead>\n",
       "    <tr style=\"text-align: right;\">\n",
       "      <th></th>\n",
       "      <th>company_id</th>\n",
       "      <th>speciality</th>\n",
       "    </tr>\n",
       "  </thead>\n",
       "  <tbody>\n",
       "    <tr>\n",
       "      <th>0</th>\n",
       "      <td>81149246</td>\n",
       "      <td>childrens music education</td>\n",
       "    </tr>\n",
       "    <tr>\n",
       "      <th>1</th>\n",
       "      <td>81149246</td>\n",
       "      <td>foundational music theory</td>\n",
       "    </tr>\n",
       "    <tr>\n",
       "      <th>2</th>\n",
       "      <td>81149246</td>\n",
       "      <td>child music lessons</td>\n",
       "    </tr>\n",
       "    <tr>\n",
       "      <th>3</th>\n",
       "      <td>81149246</td>\n",
       "      <td>social emotional learning</td>\n",
       "    </tr>\n",
       "    <tr>\n",
       "      <th>4</th>\n",
       "      <td>81149246</td>\n",
       "      <td>social emotional development</td>\n",
       "    </tr>\n",
       "  </tbody>\n",
       "</table>\n",
       "</div>"
      ],
      "text/plain": [
       "   company_id                    speciality\n",
       "0    81149246     childrens music education\n",
       "1    81149246     foundational music theory\n",
       "2    81149246           child music lessons\n",
       "3    81149246     social emotional learning\n",
       "4    81149246  social emotional development"
      ]
     },
     "execution_count": 79,
     "metadata": {},
     "output_type": "execute_result"
    }
   ],
   "source": [
    "# Convert the 'speciality' column to lowercase\n",
    "company_specialities_df['speciality'] = company_specialities_df['speciality'].str.lower()\n",
    "\n",
    "# Display the first few rows of the DataFrame to confirm the changes\n",
    "company_specialities_df.head()"
   ]
  },
  {
   "cell_type": "code",
   "execution_count": 80,
   "id": "a85fc779",
   "metadata": {},
   "outputs": [],
   "source": [
    "company_specialities_df.to_csv('cleaned_company_industries.csv', index=False)"
   ]
  },
  {
   "cell_type": "code",
   "execution_count": 81,
   "id": "42ab054b",
   "metadata": {},
   "outputs": [
    {
     "data": {
      "text/html": [
       "<div>\n",
       "<style scoped>\n",
       "    .dataframe tbody tr th:only-of-type {\n",
       "        vertical-align: middle;\n",
       "    }\n",
       "\n",
       "    .dataframe tbody tr th {\n",
       "        vertical-align: top;\n",
       "    }\n",
       "\n",
       "    .dataframe thead th {\n",
       "        text-align: right;\n",
       "    }\n",
       "</style>\n",
       "<table border=\"1\" class=\"dataframe\">\n",
       "  <thead>\n",
       "    <tr style=\"text-align: right;\">\n",
       "      <th></th>\n",
       "      <th>salary_id</th>\n",
       "      <th>job_id</th>\n",
       "      <th>max_salary</th>\n",
       "      <th>med_salary</th>\n",
       "      <th>min_salary</th>\n",
       "      <th>pay_period</th>\n",
       "      <th>currency</th>\n",
       "      <th>compensation_type</th>\n",
       "    </tr>\n",
       "  </thead>\n",
       "  <tbody>\n",
       "    <tr>\n",
       "      <th>0</th>\n",
       "      <td>1</td>\n",
       "      <td>3378133231</td>\n",
       "      <td>30.0</td>\n",
       "      <td>NaN</td>\n",
       "      <td>22.0</td>\n",
       "      <td>HOURLY</td>\n",
       "      <td>USD</td>\n",
       "      <td>BASE_SALARY</td>\n",
       "    </tr>\n",
       "    <tr>\n",
       "      <th>1</th>\n",
       "      <td>2</td>\n",
       "      <td>3690843087</td>\n",
       "      <td>65000.0</td>\n",
       "      <td>NaN</td>\n",
       "      <td>55000.0</td>\n",
       "      <td>YEARLY</td>\n",
       "      <td>USD</td>\n",
       "      <td>BASE_SALARY</td>\n",
       "    </tr>\n",
       "    <tr>\n",
       "      <th>2</th>\n",
       "      <td>3</td>\n",
       "      <td>3691794313</td>\n",
       "      <td>22.0</td>\n",
       "      <td>NaN</td>\n",
       "      <td>19.0</td>\n",
       "      <td>HOURLY</td>\n",
       "      <td>USD</td>\n",
       "      <td>BASE_SALARY</td>\n",
       "    </tr>\n",
       "    <tr>\n",
       "      <th>3</th>\n",
       "      <td>4</td>\n",
       "      <td>3691795389</td>\n",
       "      <td>70000.0</td>\n",
       "      <td>NaN</td>\n",
       "      <td>68000.0</td>\n",
       "      <td>YEARLY</td>\n",
       "      <td>USD</td>\n",
       "      <td>BASE_SALARY</td>\n",
       "    </tr>\n",
       "    <tr>\n",
       "      <th>4</th>\n",
       "      <td>5</td>\n",
       "      <td>3691797089</td>\n",
       "      <td>22.0</td>\n",
       "      <td>NaN</td>\n",
       "      <td>18.0</td>\n",
       "      <td>HOURLY</td>\n",
       "      <td>USD</td>\n",
       "      <td>BASE_SALARY</td>\n",
       "    </tr>\n",
       "  </tbody>\n",
       "</table>\n",
       "</div>"
      ],
      "text/plain": [
       "   salary_id      job_id  max_salary  med_salary  min_salary pay_period  \\\n",
       "0          1  3378133231        30.0         NaN        22.0     HOURLY   \n",
       "1          2  3690843087     65000.0         NaN     55000.0     YEARLY   \n",
       "2          3  3691794313        22.0         NaN        19.0     HOURLY   \n",
       "3          4  3691795389     70000.0         NaN     68000.0     YEARLY   \n",
       "4          5  3691797089        22.0         NaN        18.0     HOURLY   \n",
       "\n",
       "  currency compensation_type  \n",
       "0      USD       BASE_SALARY  \n",
       "1      USD       BASE_SALARY  \n",
       "2      USD       BASE_SALARY  \n",
       "3      USD       BASE_SALARY  \n",
       "4      USD       BASE_SALARY  "
      ]
     },
     "execution_count": 81,
     "metadata": {},
     "output_type": "execute_result"
    }
   ],
   "source": [
    "import pandas as pd\n",
    "\n",
    "# Load the dataset\n",
    "file_path = 'salaries.csv'\n",
    "salaries_df = pd.read_csv(file_path)\n",
    "\n",
    "# Display the first few rows of the dataset to understand its structure\n",
    "salaries_df.head()\n"
   ]
  },
  {
   "cell_type": "code",
   "execution_count": 82,
   "id": "aab8446a",
   "metadata": {},
   "outputs": [
    {
     "data": {
      "text/plain": [
       "(salary_id                0\n",
       " job_id                   0\n",
       " max_salary            2241\n",
       " med_salary           11111\n",
       " min_salary            2241\n",
       " pay_period               0\n",
       " currency                 0\n",
       " compensation_type        0\n",
       " dtype: int64,\n",
       " salary_id              int64\n",
       " job_id                 int64\n",
       " max_salary           float64\n",
       " med_salary           float64\n",
       " min_salary           float64\n",
       " pay_period            object\n",
       " currency              object\n",
       " compensation_type     object\n",
       " dtype: object,\n",
       " 0,\n",
       " array(['HOURLY', 'YEARLY', 'MONTHLY', 'WEEKLY', 'ONCE'], dtype=object),\n",
       " array(['USD'], dtype=object),\n",
       " array(['BASE_SALARY'], dtype=object))"
      ]
     },
     "execution_count": 82,
     "metadata": {},
     "output_type": "execute_result"
    }
   ],
   "source": [
    "# Step 1: Check for missing values\n",
    "missing_values = salaries_df.isnull().sum()\n",
    "\n",
    "# Step 2: Validate data types\n",
    "data_types = salaries_df.dtypes\n",
    "\n",
    "# Preparing for Step 3 & 4: Checking for duplicates and inconsistency in categorical data\n",
    "duplicate_entries = salaries_df.duplicated().sum()\n",
    "unique_pay_periods = salaries_df['pay_period'].unique()\n",
    "unique_currencies = salaries_df['currency'].unique()\n",
    "unique_compensation_types = salaries_df['compensation_type'].unique()\n",
    "\n",
    "missing_values, data_types, duplicate_entries, unique_pay_periods, unique_currencies, unique_compensation_types\n"
   ]
  },
  {
   "cell_type": "code",
   "execution_count": 83,
   "id": "17f2cb7f",
   "metadata": {},
   "outputs": [],
   "source": [
    "salaries_df.to_csv('cleaned_salaries.csv', index=False)"
   ]
  }
 ],
 "metadata": {
  "kernelspec": {
   "display_name": "Python 3 (ipykernel)",
   "language": "python",
   "name": "python3"
  },
  "language_info": {
   "codemirror_mode": {
    "name": "ipython",
    "version": 3
   },
   "file_extension": ".py",
   "mimetype": "text/x-python",
   "name": "python",
   "nbconvert_exporter": "python",
   "pygments_lexer": "ipython3",
   "version": "3.11.4"
  }
 },
 "nbformat": 4,
 "nbformat_minor": 5
}
